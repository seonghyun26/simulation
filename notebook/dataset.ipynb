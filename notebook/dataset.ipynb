{
 "cells": [
  {
   "cell_type": "markdown",
   "metadata": {},
   "source": [
    "# Configs"
   ]
  },
  {
   "cell_type": "code",
   "execution_count": 1,
   "metadata": {},
   "outputs": [
    {
     "data": {
      "application/vnd.jupyter.widget-view+json": {
       "model_id": "8ace3819fe844922a9a1c17dc2cc6e24",
       "version_major": 2,
       "version_minor": 0
      },
      "text/plain": []
     },
     "metadata": {},
     "output_type": "display_data"
    }
   ],
   "source": [
    "import json\n",
    "import time\n",
    "import torch\n",
    "import pprint\n",
    "import mdtraj\n",
    "import random\n",
    "import pandas\n",
    "import nglview\n",
    "import numpy as np\n",
    "import matplotlib.pyplot as plt\n",
    "\n",
    "from openmm import *\n",
    "from tqdm.auto import tqdm\n",
    "from matplotlib import animation \n",
    "from openmm.app import *\n",
    "from openmm.unit import *\n",
    "from matplotlib.colors import LogNorm\n",
    "from mpl_toolkits.mplot3d import Axes3D\n",
    "\n",
    "import jax.numpy as jnp\n",
    "from jax import grad, value_and_grad, vmap\n"
   ]
  },
  {
   "cell_type": "code",
   "execution_count": 2,
   "metadata": {},
   "outputs": [],
   "source": [
    "molecule = \"alanine\"\n",
    "temperature = \"300.0\"\n",
    "state = \"c5\"\n",
    "\n",
    "result_dir = f\"../log/{molecule}/{temperature}/{state}\"\n",
    "pdb_file = f\"../data/{molecule}/{state}.pdb\""
   ]
  },
  {
   "cell_type": "code",
   "execution_count": 3,
   "metadata": {},
   "outputs": [
    {
     "ename": "FileNotFoundError",
     "evalue": "[Errno 2] No such file or directory: '../log/alanine/300.0/c5/args.json'",
     "output_type": "error",
     "traceback": [
      "\u001b[0;31m---------------------------------------------------------------------------\u001b[0m",
      "\u001b[0;31mFileNotFoundError\u001b[0m                         Traceback (most recent call last)",
      "Cell \u001b[0;32mIn[3], line 3\u001b[0m\n\u001b[1;32m      1\u001b[0m arg_file \u001b[38;5;241m=\u001b[39m \u001b[38;5;124mf\u001b[39m\u001b[38;5;124m\"\u001b[39m\u001b[38;5;132;01m{\u001b[39;00mresult_dir\u001b[38;5;132;01m}\u001b[39;00m\u001b[38;5;124m/args.json\u001b[39m\u001b[38;5;124m\"\u001b[39m\n\u001b[0;32m----> 3\u001b[0m \u001b[38;5;28;01mwith\u001b[39;00m \u001b[38;5;28;43mopen\u001b[39;49m\u001b[43m(\u001b[49m\u001b[43marg_file\u001b[49m\u001b[43m,\u001b[49m\u001b[43m \u001b[49m\u001b[38;5;124;43m'\u001b[39;49m\u001b[38;5;124;43mr\u001b[39;49m\u001b[38;5;124;43m'\u001b[39;49m\u001b[43m)\u001b[49m \u001b[38;5;28;01mas\u001b[39;00m f:\n\u001b[1;32m      4\u001b[0m \targ_data \u001b[38;5;241m=\u001b[39m json\u001b[38;5;241m.\u001b[39mload(f)\n\u001b[1;32m      6\u001b[0m pprint\u001b[38;5;241m.\u001b[39mpprint(arg_data)\n",
      "File \u001b[0;32m~/.conda/envs/mlcv/lib/python3.9/site-packages/IPython/core/interactiveshell.py:310\u001b[0m, in \u001b[0;36m_modified_open\u001b[0;34m(file, *args, **kwargs)\u001b[0m\n\u001b[1;32m    303\u001b[0m \u001b[38;5;28;01mif\u001b[39;00m file \u001b[38;5;129;01min\u001b[39;00m {\u001b[38;5;241m0\u001b[39m, \u001b[38;5;241m1\u001b[39m, \u001b[38;5;241m2\u001b[39m}:\n\u001b[1;32m    304\u001b[0m     \u001b[38;5;28;01mraise\u001b[39;00m \u001b[38;5;167;01mValueError\u001b[39;00m(\n\u001b[1;32m    305\u001b[0m         \u001b[38;5;124mf\u001b[39m\u001b[38;5;124m\"\u001b[39m\u001b[38;5;124mIPython won\u001b[39m\u001b[38;5;124m'\u001b[39m\u001b[38;5;124mt let you open fd=\u001b[39m\u001b[38;5;132;01m{\u001b[39;00mfile\u001b[38;5;132;01m}\u001b[39;00m\u001b[38;5;124m by default \u001b[39m\u001b[38;5;124m\"\u001b[39m\n\u001b[1;32m    306\u001b[0m         \u001b[38;5;124m\"\u001b[39m\u001b[38;5;124mas it is likely to crash IPython. If you know what you are doing, \u001b[39m\u001b[38;5;124m\"\u001b[39m\n\u001b[1;32m    307\u001b[0m         \u001b[38;5;124m\"\u001b[39m\u001b[38;5;124myou can use builtins\u001b[39m\u001b[38;5;124m'\u001b[39m\u001b[38;5;124m open.\u001b[39m\u001b[38;5;124m\"\u001b[39m\n\u001b[1;32m    308\u001b[0m     )\n\u001b[0;32m--> 310\u001b[0m \u001b[38;5;28;01mreturn\u001b[39;00m \u001b[43mio_open\u001b[49m\u001b[43m(\u001b[49m\u001b[43mfile\u001b[49m\u001b[43m,\u001b[49m\u001b[43m \u001b[49m\u001b[38;5;241;43m*\u001b[39;49m\u001b[43margs\u001b[49m\u001b[43m,\u001b[49m\u001b[43m \u001b[49m\u001b[38;5;241;43m*\u001b[39;49m\u001b[38;5;241;43m*\u001b[39;49m\u001b[43mkwargs\u001b[49m\u001b[43m)\u001b[49m\n",
      "\u001b[0;31mFileNotFoundError\u001b[0m: [Errno 2] No such file or directory: '../log/alanine/300.0/c5/args.json'"
     ]
    }
   ],
   "source": [
    "arg_file = f\"{result_dir}/args.json\"\n",
    "\n",
    "with open(arg_file, 'r') as f:\n",
    "\targ_data = json.load(f)\n",
    " \n",
    "pprint.pprint(arg_data)"
   ]
  },
  {
   "cell_type": "markdown",
   "metadata": {},
   "source": [
    "# Trajectory from simulation"
   ]
  },
  {
   "cell_type": "code",
   "execution_count": null,
   "metadata": {},
   "outputs": [],
   "source": [
    "start = time.time()\n",
    "print(\"Loading trajectory...\")\n",
    "loaded_traj = mdtraj.load(\n",
    "    f\"{result_dir}/traj.dcd\",\n",
    "    top=pdb_file\n",
    ")\n",
    "end = time.time()\n",
    "print(f\"{end-start} seconds\")\n",
    "print(\"Trajectory loaded.!!\")"
   ]
  },
  {
   "cell_type": "code",
   "execution_count": null,
   "metadata": {},
   "outputs": [],
   "source": [
    "def plot_ram_from_sim(loaded_traj, pdb_file, state):\n",
    "    fig = plt.figure()\n",
    "    fig, ax = plt.subplots(figsize=(6,6))\n",
    "    phis = mdtraj.compute_phi(loaded_traj)[1].ravel()\n",
    "    psis = mdtraj.compute_psi(loaded_traj)[1].ravel()\n",
    "    \n",
    "    state_traj = mdtraj.load(pdb_file)\n",
    "    phi_start = mdtraj.compute_phi(state_traj)[1].ravel()\n",
    "    psi_start = mdtraj.compute_psi(state_traj)[1].ravel()\n",
    "    ax.set_title(f\"State {state}\")\n",
    "    ax.scatter(phi_start * 180 / np.pi, psi_start * 180 / np.pi, c='red', s=100, zorder=1)\n",
    "    \n",
    "    # Ramachandran plot\n",
    "    # ax.hist2d(phis * 180 / np.pi, psis * 180 / np.pi, 100, norm=LogNorm(), zorder=0)\n",
    "    ax.scatter(phis * 180 / np.pi, psis * 180 / np.pi, s=100)\n",
    "    ax.set_xlim(-180, 180)\n",
    "    ax.set_ylim(-180, 180)\n",
    "    ax.set_xticks(np.linspace(-180, 180, 5))\n",
    "    ax.set_yticks(np.linspace(-180, 180, 5))\n",
    "    ax.set_xlabel(\"Phi [deg]\")\n",
    "    ax.set_ylabel(\"Psi [deg]\")\n",
    "    fig.tight_layout()"
   ]
  },
  {
   "cell_type": "code",
   "execution_count": null,
   "metadata": {},
   "outputs": [],
   "source": [
    "plot_ram_from_sim(loaded_traj, pdb_file, state)"
   ]
  },
  {
   "cell_type": "markdown",
   "metadata": {},
   "source": [
    "# Trajectory from dataset"
   ]
  },
  {
   "cell_type": "code",
   "execution_count": 9,
   "metadata": {},
   "outputs": [],
   "source": [
    "import os\n",
    "import sys\n",
    "module_path = os.path.abspath(os.path.join('..'))\n",
    "if module_path not in sys.path:\n",
    "    sys.path.append(module_path)\n",
    "    \n",
    "from torch.utils.data import Dataset\n",
    "from util.dataset import MD_Dataset"
   ]
  },
  {
   "cell_type": "code",
   "execution_count": 16,
   "metadata": {},
   "outputs": [
    {
     "name": "stdout",
     "output_type": "stream",
     "text": [
      "Temperature: 100.0\n",
      "Exception:  Can't get attribute 'MD_Dataset' on <module 'dataset' (namespace)>\n",
      "Temperature: 200.0\n",
      "Exception:  Can't get attribute 'MD_Dataset' on <module 'dataset' (namespace)>\n",
      "Temperature: 300.0\n",
      "Exception:  Can't get attribute 'MD_Dataset' on <module 'dataset' (namespace)>\n",
      "Temperature: 400.0\n",
      "Exception:  Can't get attribute 'MD_Dataset' on <module 'dataset' (namespace)>\n",
      "Temperature: 500.0\n",
      "Exception:  Can't get attribute 'MD_Dataset' on <module 'dataset' (namespace)>\n",
      "Temperature: 600.0\n",
      "Exception:  Can't get attribute 'MD_Dataset' on <module 'dataset' (namespace)>\n"
     ]
    }
   ],
   "source": [
    "for temperature in [\"100.0\", \"200.0\", \"300.0\", \"400.0\", \"500.0\", \"600.0\"]:\n",
    "\tprint(f\"Temperature: {temperature}\")\n",
    "\ttry:\n",
    "\t\tdataset_dir = f\"../dataset/{molecule}/{temperature}\"\n",
    "\t\tdata = torch.load(f\"{dataset_dir}/{state}-random.pt\")\n",
    "\t\tprint(f\"Number of samples: {len(data)}\")\n",
    "\texcept Exception as e:\n",
    "\t\tprint(\"Exception: \", e)\t"
   ]
  },
  {
   "cell_type": "code",
   "execution_count": 14,
   "metadata": {},
   "outputs": [
    {
     "data": {
      "application/vnd.jupyter.widget-view+json": {
       "model_id": "75c2e424932140a5bcee23e9775669d4",
       "version_major": 2,
       "version_minor": 0
      },
      "text/plain": [
       "  0%|          | 0/10 [00:00<?, ?it/s]"
      ]
     },
     "metadata": {},
     "output_type": "display_data"
    },
    {
     "name": "stdout",
     "output_type": "stream",
     "text": [
      "torch.Size([22, 3])\n"
     ]
    }
   ],
   "source": [
    "dataset_dir = f\"../dataset/{molecule}/{temperature}\"\n",
    "data = torch.load(f\"{dataset_dir}/{state}-random.pt\")\n",
    "\n",
    "frames = []\n",
    "for t in tqdm(range(len(data))):\n",
    "    x, y, goal, detla_k = data[t]\n",
    "    frames.append(x)\n",
    "    \n",
    "print(frames[0].shape)"
   ]
  },
  {
   "cell_type": "code",
   "execution_count": null,
   "metadata": {},
   "outputs": [],
   "source": [
    "angle_1 = [6, 8, 14, 16]\n",
    "angle_2 = [4, 6, 8, 14]\n",
    "\n",
    "def dihedral_old(i, j, k, l):\n",
    "    b1, b2, b3 = j - i, k - j, l - k\n",
    "\n",
    "    c1 = vmap(jnp.cross, (0, 0))(b2, b3)\n",
    "    c2 = vmap(jnp.cross, (0, 0))(b1, b2)\n",
    "\n",
    "    p1 = (b1 * c1).sum(-1)\n",
    "    p1 = p1 * jnp.sqrt((b2 * b2).sum(-1))\n",
    "    p2 = (c1 * c2).sum(-1)\n",
    "\n",
    "    r = vmap(jnp.arctan2, (0, 0))(p1, p2)\n",
    "    return r\n",
    "\n",
    "def dihedral(p):\n",
    "    \"\"\"http://stackoverflow.com/q/20305272/1128289\"\"\"\n",
    "    b = p[:-1] - p[1:]\n",
    "    b[0] *= -1\n",
    "    v = np.array([v - (v.dot(b[1]) / b[1].dot(b[1])) * b[1] for v in [b[0], b[2]]])\n",
    "    # Normalize vectors\n",
    "    v /= np.sqrt(np.einsum('...i,...i', v, v)).reshape(-1, 1)\n",
    "    b1 = b[1] / np.linalg.norm(b[1])\n",
    "    x = np.dot(v[0], v[1])\n",
    "    m = np.cross(v[0], b1)\n",
    "    y = np.dot(m, v[1])\n",
    "    return np.arctan2(y, x)"
   ]
  },
  {
   "cell_type": "code",
   "execution_count": null,
   "metadata": {},
   "outputs": [],
   "source": [
    "def plot_ram_from_dataset(frames, pdb_file, state):\n",
    "\tfig = plt.figure()\n",
    "\tfig, ax = plt.subplots(figsize=(6,6))\n",
    "\t\n",
    "\tphis = []\n",
    "\tpsis = []\n",
    "\tfor frame in frames:\n",
    "\t\tpsis.append(dihedral(np.array(frame[angle_1, :].cpu())) * 180 / np.pi)\n",
    "\t\tphis.append(dihedral(np.array(frame[angle_2,: ].cpu())) * 180 / np.pi)\n",
    "\tprint(psis)\n",
    "\tprint(phis)\n",
    "\n",
    "\tstate_traj = mdtraj.load(pdb_file)\n",
    "\tphi_start = mdtraj.compute_phi(state_traj)[1].ravel()\n",
    "\tpsi_start = mdtraj.compute_psi(state_traj)[1].ravel()\n",
    "\tax.scatter(phi_start * 180 / np.pi, psi_start * 180 / np.pi, c='red', s=100, zorder=1)\n",
    "\n",
    "\t# Ramachandran plot\n",
    "\t# ax.hist2d(phis, psis, 100, norm=LogNorm(), zorder=0)\n",
    "\tax.scatter(phis, psis, s=100)\n",
    "\tax.set_xlim(-180, 180)\n",
    "\tax.set_ylim(-180, 180)\n",
    "\tax.set_xticks(np.linspace(-180, 180, 5))\n",
    "\tax.set_yticks(np.linspace(-180, 180, 5))\n",
    "\tax.set_xlabel(\"Phi [deg]\")\n",
    "\tax.set_ylabel(\"Psi [deg]\")\n",
    "\tfig.tight_layout()"
   ]
  },
  {
   "cell_type": "code",
   "execution_count": null,
   "metadata": {},
   "outputs": [],
   "source": [
    "plot_ram_from_dataset(frames, pdb_file, state)"
   ]
  },
  {
   "cell_type": "code",
   "execution_count": null,
   "metadata": {},
   "outputs": [],
   "source": []
  }
 ],
 "metadata": {
  "kernelspec": {
   "display_name": "mlcv",
   "language": "python",
   "name": "python3"
  },
  "language_info": {
   "codemirror_mode": {
    "name": "ipython",
    "version": 3
   },
   "file_extension": ".py",
   "mimetype": "text/x-python",
   "name": "python",
   "nbconvert_exporter": "python",
   "pygments_lexer": "ipython3",
   "version": "3.9.19"
  }
 },
 "nbformat": 4,
 "nbformat_minor": 2
}
