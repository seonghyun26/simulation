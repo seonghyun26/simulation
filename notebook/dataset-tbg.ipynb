{
 "cells": [
  {
   "cell_type": "code",
   "execution_count": 2,
   "metadata": {},
   "outputs": [
    {
     "data": {
      "application/vnd.jupyter.widget-view+json": {
       "model_id": "02bd21a09aeb4cc4aa2ec0b5f17f70a8",
       "version_major": 2,
       "version_minor": 0
      },
      "text/plain": []
     },
     "metadata": {},
     "output_type": "display_data"
    }
   ],
   "source": [
    "import json\n",
    "import torch\n",
    "import numpy as np\n",
    "import mdtraj as md\n",
    "import nglview as nv\n",
    "\n",
    "import openmm as mm\n",
    "import openmm.unit as unit\n",
    "from openmm import app\n",
    "\n",
    "from tqdm.auto import tqdm\n",
    "import matplotlib.pyplot as plt\n",
    "from matplotlib.colors import LogNorm\n",
    "\n",
    "PHI_ANGLE = [4, 6, 8, 14]\n",
    "PSI_ANGLE = [6, 8, 14, 16]\n",
    "ALANINE_HEAVY_ATOM_IDX = [1, 4, 5, 6, 8, 10, 14, 15, 16, 18]\n",
    "ALANINE_HEAVY_ATOM_IDX_TBG = [0, 4, 5, 6, 8, 10, 14, 15, 16, 18]\n",
    "\n",
    "n_particles = 22\n",
    "n_dimensions = 3\n",
    "scaling = 10\n",
    "dim = n_particles * n_dimensions\n",
    "\n",
    "def compute_dihedral(positions):\n",
    "    \"\"\"http://stackoverflow.com/q/20305272/1128289\"\"\"\n",
    "    def dihedral(p):\n",
    "        if not isinstance(p, np.ndarray):\n",
    "            p = p.numpy()\n",
    "        b = p[:-1] - p[1:]\n",
    "        b[0] *= -1\n",
    "        v = np.array([v - (v.dot(b[1]) / b[1].dot(b[1])) * b[1] for v in [b[0], b[2]]])\n",
    "        \n",
    "        # Normalize vectors\n",
    "        v /= np.sqrt(np.einsum('...i,...i', v, v)).reshape(-1, 1)\n",
    "        b1 = b[1] / np.linalg.norm(b[1])\n",
    "        x = np.dot(v[0], v[1])\n",
    "        m = np.cross(v[0], b1)\n",
    "        y = np.dot(m, v[1])\n",
    "        \n",
    "        return np.arctan2(y, x)\n",
    "    \n",
    "    return np.array(list(map(dihedral, positions)))"
   ]
  },
  {
   "cell_type": "code",
   "execution_count": 11,
   "metadata": {},
   "outputs": [],
   "source": [
    "def kabsch(\n",
    "\treference_position: torch.Tensor,\n",
    "\tposition: torch.Tensor,\n",
    ") -> torch.Tensor:\n",
    "    '''\n",
    "        Kabsch algorithm for aligning two sets of points\n",
    "        Args:\n",
    "            reference_position (torch.Tensor): Reference positions (N, 3)\n",
    "            position (torch.Tensor): Positions to align (N, 3)\n",
    "        Returns:\n",
    "            torch.Tensor: Aligned positions (N, 3)\n",
    "    '''\n",
    "    # Compute centroids\n",
    "    centroid_ref = torch.mean(reference_position, dim=0, keepdim=True)\n",
    "    centroid_pos = torch.mean(position, dim=0, keepdim=True)\n",
    "    ref_centered = reference_position - centroid_ref  \n",
    "    pos_centered = position - centroid_pos\n",
    "\n",
    "    # Compute rotation, translation matrix\n",
    "    covariance = torch.matmul(ref_centered.T, pos_centered)\n",
    "    U, S, Vt = torch.linalg.svd(covariance)\n",
    "    d = torch.linalg.det(torch.matmul(Vt.T, U.T))\n",
    "    if d < 0:\n",
    "        Vt = Vt.clone()\n",
    "        Vt[-1] = Vt[-1] * -1\n",
    "        #  Vt = torch.cat([Vt[:-1], -Vt[-1:].clone()], dim=0)\n",
    "    rotation = torch.matmul(Vt.T, U.T)\n",
    "\n",
    "    # Align position to reference_position\n",
    "    aligned_position = torch.matmul(pos_centered, rotation) + centroid_ref\n",
    "    return aligned_position"
   ]
  },
  {
   "cell_type": "markdown",
   "metadata": {},
   "source": [
    "# Aligned dataset"
   ]
  },
  {
   "cell_type": "code",
   "execution_count": 3,
   "metadata": {},
   "outputs": [
    {
     "name": "stdout",
     "output_type": "stream",
     "text": [
      "torch.Size([10000, 22, 3])\n"
     ]
    }
   ],
   "source": [
    "current_xyz_tbg_loaded = torch.load(\"../dataset/alanine/300.0/tbg-10n-lag30/current-xyz.pt\")\n",
    "print(current_xyz_tbg_loaded.shape)"
   ]
  },
  {
   "cell_type": "code",
   "execution_count": 10,
   "metadata": {},
   "outputs": [
    {
     "name": "stdout",
     "output_type": "stream",
     "text": [
      "torch.Size([1, 22, 3])\n"
     ]
    }
   ],
   "source": [
    "c5_state = torch.load(\"../data/alanine/c5-tbg.pt\")\n",
    "print(c5_state['xyz'].shape)"
   ]
  },
  {
   "cell_type": "code",
   "execution_count": 14,
   "metadata": {},
   "outputs": [
    {
     "data": {
      "application/vnd.jupyter.widget-view+json": {
       "model_id": "5bdd88b54fe9422fbaf585642b54674f",
       "version_major": 2,
       "version_minor": 0
      },
      "text/plain": [
       "  0%|          | 0/10000 [00:00<?, ?it/s]"
      ]
     },
     "metadata": {},
     "output_type": "display_data"
    },
    {
     "name": "stdout",
     "output_type": "stream",
     "text": [
      "torch.Size([10000, 22, 3])\n"
     ]
    }
   ],
   "source": [
    "aligned_data_list = []\n",
    "for data in tqdm(current_xyz_tbg_loaded):\n",
    "    aligned_data_list.append(kabsch(c5_state['xyz'].squeeze(), data))\n",
    "\n",
    "aligned_data_list = torch.stack(aligned_data_list)\n",
    "print(aligned_data_list.shape)"
   ]
  },
  {
   "cell_type": "code",
   "execution_count": 15,
   "metadata": {},
   "outputs": [],
   "source": [
    "torch.save(aligned_data_list, \"../dataset/alanine/300.0/tbg-10n-lag30/aligned-current-xyz.pt\")"
   ]
  },
  {
   "cell_type": "code",
   "execution_count": 16,
   "metadata": {},
   "outputs": [
    {
     "name": "stdout",
     "output_type": "stream",
     "text": [
      "torch.Size([10000, 22, 3])\n"
     ]
    },
    {
     "data": {
      "application/vnd.jupyter.widget-view+json": {
       "model_id": "c1a798afe5ca4433ae814ab85f49f0e8",
       "version_major": 2,
       "version_minor": 0
      },
      "text/plain": [
       "  0%|          | 0/10000 [00:00<?, ?it/s]"
      ]
     },
     "metadata": {},
     "output_type": "display_data"
    },
    {
     "name": "stdout",
     "output_type": "stream",
     "text": [
      "torch.Size([10000, 22, 3])\n"
     ]
    }
   ],
   "source": [
    "timelag_xyz_tbg_loaded = torch.load(\"../dataset/alanine/300.0/tbg-10n-lag30/timelag-xyz.pt\")\n",
    "print(timelag_xyz_tbg_loaded.shape)\n",
    "\n",
    "aligned_timelag_data_list = []\n",
    "for data in tqdm(timelag_xyz_tbg_loaded):\n",
    "    aligned_timelag_data_list.append(kabsch(c5_state['xyz'].squeeze(), data))\n",
    "\n",
    "aligned_timelag_data_list = torch.stack(aligned_timelag_data_list)\n",
    "print(aligned_timelag_data_list.shape)\n",
    "torch.save(aligned_timelag_data_list, \"../dataset/alanine/300.0/tbg-10n-lag30/aligned-timelag-xyz.pt\")"
   ]
  },
  {
   "cell_type": "code",
   "execution_count": null,
   "metadata": {},
   "outputs": [],
   "source": []
  }
 ],
 "metadata": {
  "kernelspec": {
   "display_name": "mlcv",
   "language": "python",
   "name": "python3"
  },
  "language_info": {
   "codemirror_mode": {
    "name": "ipython",
    "version": 3
   },
   "file_extension": ".py",
   "mimetype": "text/x-python",
   "name": "python",
   "nbconvert_exporter": "python",
   "pygments_lexer": "ipython3",
   "version": "3.9.19"
  }
 },
 "nbformat": 4,
 "nbformat_minor": 2
}
