{
 "cells": [
  {
   "cell_type": "markdown",
   "metadata": {},
   "source": [
    "# Basics"
   ]
  },
  {
   "cell_type": "code",
   "execution_count": null,
   "metadata": {},
   "outputs": [
    {
     "data": {
      "application/vnd.jupyter.widget-view+json": {
       "model_id": "9a6d52bd37104e6f891beccf89be8265",
       "version_major": 2,
       "version_minor": 0
      },
      "text/plain": []
     },
     "metadata": {},
     "output_type": "display_data"
    }
   ],
   "source": [
    "import torch\n",
    "import numpy as np\n",
    "\n",
    "from tqdm.auto import tqdm\n",
    "\n",
    "import matplotlib.pyplot as plt\n",
    "from matplotlib.colors import LogNorm\n",
    "\n",
    "import mdtraj as md\n",
    "import nglview as nv\n",
    "\n",
    "PHI_ANGLE = [4, 6, 8, 14]\n",
    "PSI_ANGLE = [6, 8, 14, 16]\n",
    "ALANINE_HEAVY_ATOM_IDX = [1, 4, 5, 6, 8, 10, 14, 15, 16, 18]"
   ]
  },
  {
   "cell_type": "code",
   "execution_count": 2,
   "metadata": {},
   "outputs": [],
   "source": [
    "def compute_dihedral(positions):\n",
    "\t\"\"\"http://stackoverflow.com/q/20305272/1128289\"\"\"\n",
    "\tdef dihedral(p):\n",
    "\t\tif not isinstance(p, np.ndarray):\n",
    "\t\t\tp = p.numpy()\n",
    "\t\tb = p[:-1] - p[1:]\n",
    "\t\tb[0] *= -1\n",
    "\t\tv = np.array([v - (v.dot(b[1]) / b[1].dot(b[1])) * b[1] for v in [b[0], b[2]]])\n",
    "\t\t\n",
    "\t\t# Normalize vectors\n",
    "\t\tv /= np.sqrt(np.einsum('...i,...i', v, v)).reshape(-1, 1)\n",
    "\t\tb1 = b[1] / np.linalg.norm(b[1])\n",
    "\t\tx = np.dot(v[0], v[1])\n",
    "\t\tm = np.cross(v[0], b1)\n",
    "\t\ty = np.dot(m, v[1])\n",
    "\t\t\n",
    "\t\treturn np.arctan2(y, x)\n",
    "\n",
    "\tangles = np.array(list(map(dihedral, positions)))\n",
    "\treturn angles"
   ]
  },
  {
   "cell_type": "markdown",
   "metadata": {},
   "source": [
    "# TBG state file"
   ]
  },
  {
   "cell_type": "code",
   "execution_count": 4,
   "metadata": {},
   "outputs": [
    {
     "name": "stdout",
     "output_type": "stream",
     "text": [
      "tensor([[[1.9185, 0.3272, 2.0062],\n",
      "         [1.8852, 0.3056, 2.1077],\n",
      "         [1.9711, 0.2965, 2.1742],\n",
      "         [1.8267, 0.2137, 2.1094],\n",
      "         [1.7969, 0.4173, 2.1580],\n",
      "         [1.6799, 0.3940, 2.1826],\n",
      "         [1.8542, 0.5357, 2.1737],\n",
      "         [1.9537, 0.5432, 2.1581],\n",
      "         [1.7848, 0.6546, 2.2226],\n",
      "         [1.6778, 0.6439, 2.2048],\n",
      "         [1.8056, 0.6616, 2.3749],\n",
      "         [1.7618, 0.7523, 2.4166],\n",
      "         [1.9126, 0.6649, 2.3954],\n",
      "         [1.7636, 0.5733, 2.4230],\n",
      "         [1.8330, 0.7819, 2.1506],\n",
      "         [1.9476, 0.7890, 2.1079],\n",
      "         [1.7462, 0.8834, 2.1430],\n",
      "         [1.6555, 0.8713, 2.1856],\n",
      "         [1.7780, 1.0114, 2.0802],\n",
      "         [1.6900, 1.0757, 2.0804],\n",
      "         [1.8606, 1.0599, 2.1323],\n",
      "         [1.8047, 0.9939, 1.9760]]])\n",
      "tensor([[[1.8852, 0.3056, 2.1077],\n",
      "         [1.9185, 0.3272, 2.0062],\n",
      "         [1.9711, 0.2965, 2.1742],\n",
      "         [1.8267, 0.2137, 2.1094],\n",
      "         [1.7969, 0.4173, 2.1580],\n",
      "         [1.6799, 0.3940, 2.1826],\n",
      "         [1.8542, 0.5357, 2.1737],\n",
      "         [1.9537, 0.5432, 2.1581],\n",
      "         [1.7848, 0.6546, 2.2226],\n",
      "         [1.6778, 0.6439, 2.2048],\n",
      "         [1.8056, 0.6616, 2.3749],\n",
      "         [1.7618, 0.7523, 2.4166],\n",
      "         [1.9126, 0.6649, 2.3954],\n",
      "         [1.7636, 0.5733, 2.4230],\n",
      "         [1.8330, 0.7819, 2.1506],\n",
      "         [1.9476, 0.7890, 2.1079],\n",
      "         [1.7462, 0.8834, 2.1430],\n",
      "         [1.6555, 0.8713, 2.1856],\n",
      "         [1.7780, 1.0114, 2.0802],\n",
      "         [1.6900, 1.0757, 2.0804],\n",
      "         [1.8606, 1.0599, 2.1323],\n",
      "         [1.8047, 0.9939, 1.9760]]])\n"
     ]
    }
   ],
   "source": [
    "c5 = torch.load(\"../data/alanine/c5.pt\")\n",
    "print(c5['xyz'])\n",
    "c5_tbg = c5\n",
    "c5_tbg['xyz'][:, [0, 1]] = c5_tbg['xyz'][:, [1, 0]] \n",
    "print(c5_tbg['xyz'])"
   ]
  },
  {
   "cell_type": "code",
   "execution_count": 8,
   "metadata": {},
   "outputs": [],
   "source": [
    "torch.save(c5_tbg, \"../data/alanine/c5_tbg.pt\")"
   ]
  },
  {
   "cell_type": "code",
   "execution_count": 3,
   "metadata": {},
   "outputs": [
    {
     "data": {
      "application/vnd.jupyter.widget-view+json": {
       "model_id": "2ba09ba3fb78410fae81cf717a73c6c2",
       "version_major": 2,
       "version_minor": 0
      },
      "text/plain": [
       "NGLWidget()"
      ]
     },
     "metadata": {},
     "output_type": "display_data"
    }
   ],
   "source": [
    "c5_tbg = torch.load(\"../data/alanine/c5_tbg.pt\")\n",
    "traj = md.Trajectory(c5_tbg['xyz'].numpy(), md.load(\"../data/alanine/c5-tbg.pdb\").topology)\n",
    "nv = nv.show_mdtraj(traj)\n",
    "nv"
   ]
  },
  {
   "cell_type": "code",
   "execution_count": 5,
   "metadata": {},
   "outputs": [
    {
     "name": "stdout",
     "output_type": "stream",
     "text": [
      "tensor([[[ 1.6384,  1.4081, -0.5858],\n",
      "         [ 1.6530,  1.4752, -0.5012],\n",
      "         [ 1.7262,  1.5508, -0.5297],\n",
      "         [ 1.6909,  1.4174, -0.4169],\n",
      "         [ 1.5200,  1.5391, -0.4663],\n",
      "         [ 1.4169,  1.4948, -0.5147],\n",
      "         [ 1.5223,  1.6439, -0.3824],\n",
      "         [ 1.6138,  1.6741, -0.3522],\n",
      "         [ 1.4061,  1.7185, -0.3253],\n",
      "         [ 1.4475,  1.7918, -0.2560],\n",
      "         [ 1.3353,  1.7961, -0.4365],\n",
      "         [ 1.2564,  1.8580, -0.3938],\n",
      "         [ 1.4090,  1.8590, -0.4865],\n",
      "         [ 1.2926,  1.7296, -0.5116],\n",
      "         [ 1.3036,  1.6370, -0.2426],\n",
      "         [ 1.2568,  1.6879, -0.1404],\n",
      "         [ 1.2674,  1.5159, -0.2814],\n",
      "         [ 1.3075,  1.4848, -0.3687],\n",
      "         [ 1.1703,  1.4298, -0.2109],\n",
      "         [ 1.0690,  1.4587, -0.2391],\n",
      "         [ 1.1856,  1.3257, -0.2395],\n",
      "         [ 1.1817,  1.4384, -0.1029]]])\n",
      "{'xyz': tensor([[[ 1.6530,  1.4752, -0.5012],\n",
      "         [ 1.6384,  1.4081, -0.5858],\n",
      "         [ 1.7262,  1.5508, -0.5297],\n",
      "         [ 1.6909,  1.4174, -0.4169],\n",
      "         [ 1.5200,  1.5391, -0.4663],\n",
      "         [ 1.4169,  1.4948, -0.5147],\n",
      "         [ 1.5223,  1.6439, -0.3824],\n",
      "         [ 1.6138,  1.6741, -0.3522],\n",
      "         [ 1.4061,  1.7185, -0.3253],\n",
      "         [ 1.4475,  1.7918, -0.2560],\n",
      "         [ 1.3353,  1.7961, -0.4365],\n",
      "         [ 1.2564,  1.8580, -0.3938],\n",
      "         [ 1.4090,  1.8590, -0.4865],\n",
      "         [ 1.2926,  1.7296, -0.5116],\n",
      "         [ 1.3036,  1.6370, -0.2426],\n",
      "         [ 1.2568,  1.6879, -0.1404],\n",
      "         [ 1.2674,  1.5159, -0.2814],\n",
      "         [ 1.3075,  1.4848, -0.3687],\n",
      "         [ 1.1703,  1.4298, -0.2109],\n",
      "         [ 1.0690,  1.4587, -0.2391],\n",
      "         [ 1.1856,  1.3257, -0.2395],\n",
      "         [ 1.1817,  1.4384, -0.1029]]]), 'phi': tensor([1.0172]), 'psi': tensor([-0.6990])}\n"
     ]
    }
   ],
   "source": [
    "c7ax = torch.load(\"../data/alanine/c7ax.pt\")\n",
    "print(c7ax['xyz'])\n",
    "c7ax_tbg = c7ax\n",
    "c7ax_tbg['xyz'][:, [0, 1]] = c7ax_tbg['xyz'][:, [1, 0]] \n",
    "print(c7ax_tbg)"
   ]
  },
  {
   "cell_type": "code",
   "execution_count": 6,
   "metadata": {},
   "outputs": [],
   "source": [
    "torch.save(c7ax_tbg, \"../data/alanine/c7ax_tbg.pt\")"
   ]
  },
  {
   "cell_type": "code",
   "execution_count": null,
   "metadata": {},
   "outputs": [],
   "source": []
  }
 ],
 "metadata": {
  "kernelspec": {
   "display_name": "mlcv",
   "language": "python",
   "name": "python3"
  },
  "language_info": {
   "codemirror_mode": {
    "name": "ipython",
    "version": 3
   },
   "file_extension": ".py",
   "mimetype": "text/x-python",
   "name": "python",
   "nbconvert_exporter": "python",
   "pygments_lexer": "ipython3",
   "version": "3.9.19"
  }
 },
 "nbformat": 4,
 "nbformat_minor": 2
}
