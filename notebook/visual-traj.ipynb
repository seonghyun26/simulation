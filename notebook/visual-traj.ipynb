{
 "cells": [
  {
   "cell_type": "markdown",
   "metadata": {},
   "source": [
    "# Configs"
   ]
  },
  {
   "cell_type": "code",
   "execution_count": 1,
   "metadata": {},
   "outputs": [
    {
     "data": {
      "application/vnd.jupyter.widget-view+json": {
       "model_id": "88a68400c89c495ab5f5a201dcba0067",
       "version_major": 2,
       "version_minor": 0
      },
      "text/plain": []
     },
     "metadata": {},
     "output_type": "display_data"
    }
   ],
   "source": [
    "import pandas\n",
    "import nglview\n",
    "\n",
    "import numpy as np\n",
    "import mdtraj as md\n",
    "\n",
    "import matplotlib.pyplot as plt\n",
    "\n",
    "from tqdm.auto import tqdm\n",
    "from nglview.contrib.movie import MovieMaker\n",
    "\n",
    "IMAGE_SIZE = \"400px\""
   ]
  },
  {
   "cell_type": "code",
   "execution_count": 4,
   "metadata": {},
   "outputs": [],
   "source": [
    "molecule = \"alanine\"\n",
    "temperature = \"300.0\"\n",
    "date = \"25-02-14/15:19\"\n",
    "state = \"c5\"\n",
    "\n",
    "# simulation_dir = f\"../log/{molecule}/{temperature}/{date}/{time}\"\n",
    "simulation_dir = f\"../log/{molecule}/{temperature}/test\"\n",
    "pdb_file = f\"../data/{molecule}/{state}.pdb\""
   ]
  },
  {
   "cell_type": "code",
   "execution_count": 5,
   "metadata": {},
   "outputs": [],
   "source": [
    "loaded_traj = md.load(\n",
    "\tf\"{simulation_dir}/traj.dcd\",\n",
    "\ttop=pdb_file\n",
    ")"
   ]
  },
  {
   "cell_type": "markdown",
   "metadata": {
    "jp-MarkdownHeadingCollapsed": true
   },
   "source": [
    "# Ramachandran plot"
   ]
  },
  {
   "cell_type": "code",
   "execution_count": 6,
   "metadata": {},
   "outputs": [
    {
     "data": {
      "text/plain": [
       "(10000,)"
      ]
     },
     "execution_count": 6,
     "metadata": {},
     "output_type": "execute_result"
    }
   ],
   "source": [
    "phi_list = md.compute_phi(loaded_traj)[1].squeeze(1)\n",
    "psi_list = md.compute_psi(loaded_traj)[1].squeeze(1)\n",
    "phi_list.shape\n",
    "phi_list.shape"
   ]
  },
  {
   "cell_type": "code",
   "execution_count": 7,
   "metadata": {},
   "outputs": [
    {
     "data": {
      "text/plain": [
       "<Figure size 640x480 with 0 Axes>"
      ]
     },
     "metadata": {},
     "output_type": "display_data"
    },
    {
     "data": {
      "image/png": "[encoded data removed]",
      "text/plain": [
       "<Figure size 700x700 with 1 Axes>"
      ]
     },
     "metadata": {},
     "output_type": "display_data"
    }
   ],
   "source": [
    "plt.clf()\n",
    "fig = plt.figure(figsize=(7, 7))\n",
    "ax = fig.add_subplot(111)\n",
    "\n",
    "hist, xedges, yedges = np.histogram2d(phi_list, psi_list, bins=50, range=[[-np.pi, np.pi], [-np.pi, np.pi]])\n",
    "\n",
    "# Compute the centers of the bins\n",
    "xcenters = (xedges[:-1] + xedges[1:]) / 2\n",
    "ycenters = (yedges[:-1] + yedges[1:]) / 2\n",
    "\n",
    "# Plot the contour\n",
    "X, Y = np.meshgrid(xcenters, ycenters)\n",
    "ax.contourf(X, Y, hist.T, levels=20, cmap='viridis', alpha=0.6)\n",
    "\n",
    "# Plot start and goal states\n",
    "# ax.scatter(phi_start, psi_start, edgecolors=\"black\", c=\"w\", zorder=101, s=160)\n",
    "# ax.scatter(phi_goal, psi_goal, edgecolors=\"black\", c=\"w\", zorder=101, s=500, marker=\"*\")\n",
    "\n",
    "# Plot the Ramachandran plot\n",
    "plt.xlim([-np.pi - 0.1, np.pi + 0.1])\n",
    "plt.ylim([-np.pi - 0.1, np.pi + 0.1])\n",
    "plt.xlabel(\"phi\")\n",
    "plt.ylabel(\"psi\")\n",
    "plt.show()"
   ]
  },
  {
   "cell_type": "code",
   "execution_count": null,
   "metadata": {},
   "outputs": [],
   "source": []
  },
  {
   "cell_type": "markdown",
   "metadata": {},
   "source": [
    "# Visualization"
   ]
  },
  {
   "cell_type": "code",
   "execution_count": 8,
   "metadata": {},
   "outputs": [
    {
     "data": {
      "application/vnd.jupyter.widget-view+json": {
       "model_id": "bb9ce0d2fc604b888610e61c4f7d631d",
       "version_major": 2,
       "version_minor": 0
      },
      "text/plain": [
       "NGLWidget(max_frame=9999)"
      ]
     },
     "metadata": {},
     "output_type": "display_data"
    }
   ],
   "source": [
    "view = nglview.show_mdtraj(loaded_traj, width=IMAGE_SIZE, height=IMAGE_SIZE)\n",
    "view"
   ]
  },
  {
   "cell_type": "code",
   "execution_count": 5,
   "metadata": {},
   "outputs": [
    {
     "data": {
      "text/plain": [
       "0"
      ]
     },
     "execution_count": 5,
     "metadata": {},
     "output_type": "execute_result"
    }
   ],
   "source": [
    "view.frame"
   ]
  },
  {
   "cell_type": "code",
   "execution_count": 25,
   "metadata": {},
   "outputs": [],
   "source": [
    "view.download_image(\n",
    "    filename=f\"{molecule}-{view.frame}.png\",\n",
    "    factor=3,\n",
    "    antialias=True,\n",
    "    trim=False,\n",
    "    transparent=True\n",
    ")"
   ]
  },
  {
   "cell_type": "code",
   "execution_count": 6,
   "metadata": {},
   "outputs": [
    {
     "data": {
      "application/vnd.jupyter.widget-view+json": {
       "model_id": "3b8189de42c94b0fb02e43f547a2b02b",
       "version_major": 2,
       "version_minor": 0
      },
      "text/plain": [
       "IntProgress(value=0, description='Rendering ...', max=399)"
      ]
     },
     "execution_count": 6,
     "metadata": {},
     "output_type": "execute_result"
    }
   ],
   "source": [
    "alanine_gif = MovieMaker(\n",
    "    view = view,\n",
    "    step = 10,\n",
    "    fps = 40,\n",
    "    output = f\"img/alanine.gif\",\n",
    ")\n",
    "alanine_gif.make(movie=True, keep_data=False)"
   ]
  },
  {
   "cell_type": "code",
   "execution_count": null,
   "metadata": {},
   "outputs": [],
   "source": []
  }
 ],
 "metadata": {
  "kernelspec": {
   "display_name": "mlcv",
   "language": "python",
   "name": "python3"
  },
  "language_info": {
   "codemirror_mode": {
    "name": "ipython",
    "version": 3
   },
   "file_extension": ".py",
   "mimetype": "text/x-python",
   "name": "python",
   "nbconvert_exporter": "python",
   "pygments_lexer": "ipython3",
   "version": "3.9.19"
  },
  "widgets": {
   "application/vnd.jupyter.widget-state+json": {
    "state": {
     "014ec0e304c94eea945ee31055f36606": {
      "model_module": "@jupyter-widgets/base",
      "model_module_version": "2.0.0",
      "model_name": "LayoutModel",
      "state": {}
     },
     "0428954c1aaa42f7b12fd985e9be85e3": {
      "model_module": "@jupyter-widgets/controls",
      "model_module_version": "2.0.0",
      "model_name": "IntSliderModel",
      "state": {
       "behavior": "drag-tap",
       "layout": "IPY_MODEL_cab03fcbfd194ed3991b82fa4eb125f2",
       "max": 3999,
       "style": "IPY_MODEL_337f664bd5854cca95ad12b41f1c2197"
      }
     },
     "0552cb187acc4241b2369899aef88dc6": {
      "model_module": "@jupyter-widgets/controls",
      "model_module_version": "2.0.0",
      "model_name": "PlayModel",
      "state": {
       "layout": "IPY_MODEL_06be1bdb0700444d82c5f0986f012b51",
       "max": 3999,
       "style": "IPY_MODEL_32aee48b1c4e4bf8bb3fe96e530fb80f"
      }
     },
     "06be1bdb0700444d82c5f0986f012b51": {
      "model_module": "@jupyter-widgets/base",
      "model_module_version": "2.0.0",
      "model_name": "LayoutModel",
      "state": {}
     },
     "0a2c2918ab654e0daf53e00d162d1c11": {
      "model_module": "@jupyter-widgets/base",
      "model_module_version": "2.0.0",
      "model_name": "LayoutModel",
      "state": {}
     },
     "1275a9277f194f41913d8b309276223e": {
      "model_module": "@jupyter-widgets/controls",
      "model_module_version": "2.0.0",
      "model_name": "LinkModel",
      "state": {
       "source": [
        "IPY_MODEL_c0f59099b51b413f9f1d62056930e655",
        "value"
       ],
       "target": [
        "IPY_MODEL_831286f7e9f049f79402d2c5e8a50cb2",
        "value"
       ]
      }
     },
     "17d819b798814a10894b1d9e3da7ee03": {
      "model_module": "@jupyter-widgets/controls",
      "model_module_version": "2.0.0",
      "model_name": "HBoxModel",
      "state": {
       "children": [
        "IPY_MODEL_c0f59099b51b413f9f1d62056930e655",
        "IPY_MODEL_831286f7e9f049f79402d2c5e8a50cb2"
       ],
       "layout": "IPY_MODEL_e104357921a34990b2787e22d48febef"
      }
     },
     "208780fd9f39490ca93f5b35df723ae2": {
      "model_module": "@jupyter-widgets/controls",
      "model_module_version": "2.0.0",
      "model_name": "ProgressStyleModel",
      "state": {
       "description_width": ""
      }
     },
     "22802f39c34f4ccf843fa5e86eab4e32": {
      "model_module": "@jupyter-widgets/controls",
      "model_module_version": "2.0.0",
      "model_name": "SliderStyleModel",
      "state": {
       "description_width": ""
      }
     },
     "237115afd51b4580b84789929ef329f7": {
      "model_module": "@jupyter-widgets/controls",
      "model_module_version": "2.0.0",
      "model_name": "LinkModel",
      "state": {
       "source": [
        "IPY_MODEL_0552cb187acc4241b2369899aef88dc6",
        "value"
       ],
       "target": [
        "IPY_MODEL_0428954c1aaa42f7b12fd985e9be85e3",
        "value"
       ]
      }
     },
     "25d2785b059b4863b9f9513b3730c058": {
      "model_module": "@jupyter-widgets/controls",
      "model_module_version": "2.0.0",
      "model_name": "ButtonStyleModel",
      "state": {
       "font_family": null,
       "font_size": null,
       "font_style": null,
       "font_variant": null,
       "font_weight": null,
       "text_color": null,
       "text_decoration": null
      }
     },
     "2961e44d4a8743cda89fb965cee8df77": {
      "model_module": "@jupyter-widgets/controls",
      "model_module_version": "2.0.0",
      "model_name": "LinkModel",
      "state": {
       "source": [
        "IPY_MODEL_0552cb187acc4241b2369899aef88dc6",
        "max"
       ],
       "target": [
        "IPY_MODEL_8209663179f0404ab659b047175910ac",
        "max_frame"
       ]
      }
     },
     "2c07b9cbf52d41ba9009d1d4b4192af1": {
      "model_module": "@jupyter-widgets/controls",
      "model_module_version": "2.0.0",
      "model_name": "HBoxModel",
      "state": {
       "children": [
        "IPY_MODEL_0552cb187acc4241b2369899aef88dc6",
        "IPY_MODEL_0428954c1aaa42f7b12fd985e9be85e3"
       ],
       "layout": "IPY_MODEL_62afea85a9d84e67aa5a3a26580feea2"
      }
     },
     "31786dc5ac2b424d96b7f7df52f201d9": {
      "model_module": "@jupyter-widgets/base",
      "model_module_version": "2.0.0",
      "model_name": "LayoutModel",
      "state": {}
     },
     "32aee48b1c4e4bf8bb3fe96e530fb80f": {
      "model_module": "@jupyter-widgets/controls",
      "model_module_version": "2.0.0",
      "model_name": "DescriptionStyleModel",
      "state": {
       "description_width": ""
      }
     },
     "337f664bd5854cca95ad12b41f1c2197": {
      "model_module": "@jupyter-widgets/controls",
      "model_module_version": "2.0.0",
      "model_name": "SliderStyleModel",
      "state": {
       "description_width": ""
      }
     },
     "343ac61a9f304754bb56754edf16a5bb": {
      "model_module": "@jupyter-widgets/base",
      "model_module_version": "2.0.0",
      "model_name": "LayoutModel",
      "state": {
       "width": "34px"
      }
     },
     "35705fd6506244bc95113f810fd246ba": {
      "model_module": "@jupyter-widgets/controls",
      "model_module_version": "2.0.0",
      "model_name": "ImageModel",
      "state": {
       "layout": "IPY_MODEL_0a2c2918ab654e0daf53e00d162d1c11",
       "width": "900.0"
      }
     },
     "37b8900d566e4b2abca67c0b8abf7c62": {
      "model_module": "@jupyter-widgets/controls",
      "model_module_version": "2.0.0",
      "model_name": "LinkModel",
      "state": {
       "source": [
        "IPY_MODEL_c0f59099b51b413f9f1d62056930e655",
        "max"
       ],
       "target": [
        "IPY_MODEL_cf545afd4f2f4ec2990603de43ffba86",
        "max_frame"
       ]
      }
     },
     "3b8189de42c94b0fb02e43f547a2b02b": {
      "model_module": "@jupyter-widgets/controls",
      "model_module_version": "2.0.0",
      "model_name": "IntProgressModel",
      "state": {
       "description": "Done",
       "layout": "IPY_MODEL_f6a81fff5ad34236b64940c8247f6ec9",
       "max": 399,
       "style": "IPY_MODEL_208780fd9f39490ca93f5b35df723ae2",
       "value": 399
      }
     },
     "4e3dd72e9cf241e3b9771f94276aed78": {
      "model_module": "@jupyter-widgets/controls",
      "model_module_version": "2.0.0",
      "model_name": "ButtonStyleModel",
      "state": {
       "font_family": null,
       "font_size": null,
       "font_style": null,
       "font_variant": null,
       "font_weight": null,
       "text_color": null,
       "text_decoration": null
      }
     },
     "571a0188d0cb448b8030e2a20af197f0": {
      "model_module": "@jupyter-widgets/base",
      "model_module_version": "2.0.0",
      "model_name": "LayoutModel",
      "state": {}
     },
     "5ee265ef3b584721b2d0134833ffaf13": {
      "model_module": "@jupyter-widgets/controls",
      "model_module_version": "2.0.0",
      "model_name": "LinkModel",
      "state": {
       "source": [
        "IPY_MODEL_831286f7e9f049f79402d2c5e8a50cb2",
        "max"
       ],
       "target": [
        "IPY_MODEL_cf545afd4f2f4ec2990603de43ffba86",
        "max_frame"
       ]
      }
     },
     "6066e3538193446298d301c5349adb84": {
      "model_module": "@jupyter-widgets/controls",
      "model_module_version": "2.0.0",
      "model_name": "ButtonModel",
      "state": {
       "icon": "compress",
       "layout": "IPY_MODEL_343ac61a9f304754bb56754edf16a5bb",
       "style": "IPY_MODEL_25d2785b059b4863b9f9513b3730c058",
       "tooltip": null
      }
     },
     "62afea85a9d84e67aa5a3a26580feea2": {
      "model_module": "@jupyter-widgets/base",
      "model_module_version": "2.0.0",
      "model_name": "LayoutModel",
      "state": {}
     },
     "69706f5f7cf742f3873d897c7d19a339": {
      "model_module": "@jupyter-widgets/controls",
      "model_module_version": "2.0.0",
      "model_name": "DescriptionStyleModel",
      "state": {
       "description_width": ""
      }
     },
     "710b3d10074d4585acfe6c343d05c4d4": {
      "model_module": "nglview-js-widgets",
      "model_module_version": "3.1.0",
      "model_name": "ColormakerRegistryModel",
      "state": {
       "_msg_ar": [],
       "_msg_q": [],
       "_ready": true,
       "layout": "IPY_MODEL_d3a4cdb38f984ceb9df91ec42ad8e777"
      }
     },
     "7802f54e7d414c97a5976c3918761828": {
      "model_module": "@jupyter-widgets/base",
      "model_module_version": "2.0.0",
      "model_name": "LayoutModel",
      "state": {}
     },
     "813ca3417a5641bfb76e2a610ff52245": {
      "model_module": "@jupyter-widgets/base",
      "model_module_version": "2.0.0",
      "model_name": "LayoutModel",
      "state": {
       "width": "34px"
      }
     },
     "8209663179f0404ab659b047175910ac": {
      "model_module": "nglview-js-widgets",
      "model_module_version": "3.1.0",
      "model_name": "NGLModel",
      "state": {
       "_camera_orientation": [
        25.233007369453368,
        0,
        0,
        0,
        0,
        25.233007369453368,
        0,
        0,
        0,
        0,
        25.233007369453368,
        0,
        -18.15149974822998,
        -6.445500135421753,
        -22.00599956512451,
        1
       ],
       "_camera_str": "orthographic",
       "_gui_theme": null,
       "_ibtn_fullscreen": "IPY_MODEL_6066e3538193446298d301c5349adb84",
       "_igui": null,
       "_iplayer": "IPY_MODEL_2c07b9cbf52d41ba9009d1d4b4192af1",
       "_ngl_color_dict": {},
       "_ngl_coordinate_resource": {},
       "_ngl_full_stage_parameters": {
        "ambientColor": 14540253,
        "ambientIntensity": 0.2,
        "backgroundColor": "white",
        "cameraEyeSep": 0.3,
        "cameraFov": 40,
        "cameraType": "perspective",
        "clipDist": 10,
        "clipFar": 100,
        "clipMode": "scene",
        "clipNear": 0,
        "clipScale": "relative",
        "fogFar": 100,
        "fogNear": 50,
        "hoverTimeout": 0,
        "impostor": true,
        "lightColor": 14540253,
        "lightIntensity": 1,
        "mousePreset": "default",
        "panSpeed": 1,
        "quality": "medium",
        "rotateSpeed": 2,
        "sampleLevel": 0,
        "tooltip": true,
        "workerDefault": true,
        "zoomSpeed": 1.2
       },
       "_ngl_msg_archive": [
        {
         "args": [
          {
           "binary": false,
           "data": "REMARK   1 CREATED WITH MDTraj 1.9.6, 2025-02-14\nCRYST1   25.580   25.580   25.580  90.00  90.00  90.00 P 1           1 \nMODEL        0\nATOM      1  H1  ACE A   1      19.187   3.332  20.065  1.00  0.00           H  \nATOM      2  CH3 ACE A   1      18.861   3.049  21.066  1.00  0.00           C  \nATOM      3  H2  ACE A   1      19.727   2.911  21.713  1.00  0.00           H  \nATOM      4  H3  ACE A   1      18.286   2.124  21.017  1.00  0.00           H  \nATOM      5  C   ACE A   1      17.984   4.141  21.634  1.00  0.00           C  \nATOM      6  O   ACE A   1      16.825   3.898  21.947  1.00  0.00           O  \nATOM      7  N   ALA A   2      18.539   5.344  21.759  1.00  0.00           N  \nATOM      8  H   ALA A   2      19.489   5.476  21.441  1.00  0.00           H  \nATOM      9  CA  ALA A   2      17.839   6.535  22.239  1.00  0.00           C  \nATOM     10  HA  ALA A   2      16.773   6.424  22.036  1.00  0.00           H  \nATOM     11  CB  ALA A   2      18.034   6.647  23.758  1.00  0.00           C  \nATOM     12  HB1 ALA A   2      17.482   7.505  24.140  1.00  0.00           H  \nATOM     13  HB2 ALA A   2      19.092   6.771  23.989  1.00  0.00           H  \nATOM     14  HB3 ALA A   2      17.664   5.744  24.244  1.00  0.00           H  \nATOM     15  C   ALA A   2      18.331   7.799  21.511  1.00  0.00           C  \nATOM     16  O   ALA A   2      19.460   7.838  21.023  1.00  0.00           O  \nATOM     17  N   NME A   3      17.487   8.837  21.455  1.00  0.00           N  \nATOM     18  H   NME A   3      16.576   8.731  21.878  1.00  0.00           H  \nATOM     19  C   NME A   3      17.798  10.109  20.804  1.00  0.00           C  \nATOM     20  H1  NME A   3      16.929  10.767  20.826  1.00  0.00           H  \nATOM     21  H2  NME A   3      18.630  10.592  21.317  1.00  0.00           H  \nATOM     22  H3  NME A   3      18.086   9.931  19.768  1.00  0.00           H  \nTER      23      NME A   3\nENDMDL\nCONECT    1    2    2\nCONECT    2    5    1    3\nCONECT    2    1    5    3    4\nCONECT    3    2    2\nCONECT    4    2    2\nCONECT    5    2    6    7\nCONECT    5    6    7\nCONECT    6    5    5\nCONECT    7    5    5\nCONECT   15   17   17\nCONECT   17   15   19   18\nCONECT   17   19   18\nCONECT   18   17   17\nCONECT   19   20   21   22\nCONECT   19   17   20   21   22\nCONECT   20   19   19\nCONECT   21   19   19\nCONECT   22   19   19\nEND\n",
           "type": "blob"
          }
         ],
         "kwargs": {
          "defaultRepresentation": true,
          "ext": "pdb",
          "height": "400px",
          "name": "nglview.adaptor.MDTrajTrajectory",
          "width": "400px"
         },
         "methodName": "loadFile",
         "reconstruc_color_scheme": false,
         "target": "Stage",
         "type": "call_method"
        }
       ],
       "_ngl_original_stage_parameters": {
        "ambientColor": 14540253,
        "ambientIntensity": 0.2,
        "backgroundColor": "white",
        "cameraEyeSep": 0.3,
        "cameraFov": 40,
        "cameraType": "perspective",
        "clipDist": 10,
        "clipFar": 100,
        "clipMode": "scene",
        "clipNear": 0,
        "clipScale": "relative",
        "fogFar": 100,
        "fogNear": 50,
        "hoverTimeout": 0,
        "impostor": true,
        "lightColor": 14540253,
        "lightIntensity": 1,
        "mousePreset": "default",
        "panSpeed": 1,
        "quality": "medium",
        "rotateSpeed": 2,
        "sampleLevel": 0,
        "tooltip": true,
        "workerDefault": true,
        "zoomSpeed": 1.2
       },
       "_ngl_repr_dict": {
        "0": {
         "0": {
          "params": {
           "aspectRatio": 1.5,
           "assembly": "default",
           "bondScale": 0.3,
           "bondSpacing": 0.75,
           "clipCenter": {
            "x": 0,
            "y": 0,
            "z": 0
           },
           "clipNear": 0,
           "clipRadius": 0,
           "colorMode": "hcl",
           "colorReverse": false,
           "colorScale": "",
           "colorScheme": "element",
           "colorValue": 9474192,
           "cylinderOnly": false,
           "defaultAssembly": "",
           "depthWrite": true,
           "diffuse": 16777215,
           "diffuseInterior": false,
           "disableImpostor": false,
           "disablePicking": false,
           "flatShaded": false,
           "interiorColor": 2236962,
           "interiorDarkening": 0,
           "lazy": false,
           "lineOnly": false,
           "linewidth": 2,
           "matrix": {
            "elements": [
             1,
             0,
             0,
             0,
             0,
             1,
             0,
             0,
             0,
             0,
             1,
             0,
             0,
             0,
             0,
             1
            ]
           },
           "metalness": 0,
           "multipleBond": "off",
           "opacity": 1,
           "openEnded": true,
           "quality": "high",
           "radialSegments": 20,
           "radiusData": {},
           "radiusScale": 2,
           "radiusSize": 0.15,
           "radiusType": "size",
           "roughness": 0.4,
           "sele": "",
           "side": "double",
           "sphereDetail": 2,
           "useInteriorColor": true,
           "visible": true,
           "wireframe": false
          },
          "type": "ball+stick"
         }
        }
       },
       "_ngl_serialize": false,
       "_ngl_version": "2.2.2",
       "_ngl_view_id": [
        "5F52635B-1092-4169-8CD2-A44F813B7BF9"
       ],
       "_player_dict": {},
       "_scene_position": {},
       "_scene_rotation": {},
       "_synced_model_ids": [],
       "_synced_repr_model_ids": [],
       "_view_height": "400px",
       "_view_width": "400px",
       "background": "white",
       "frame": 0,
       "gui_style": null,
       "layout": "IPY_MODEL_e24afbe4a00846a2a53f5444b0a4ae71",
       "max_frame": 3999,
       "n_components": 1,
       "picked": {}
      }
     },
     "831286f7e9f049f79402d2c5e8a50cb2": {
      "model_module": "@jupyter-widgets/controls",
      "model_module_version": "2.0.0",
      "model_name": "IntSliderModel",
      "state": {
       "behavior": "drag-tap",
       "layout": "IPY_MODEL_014ec0e304c94eea945ee31055f36606",
       "max": 3999,
       "style": "IPY_MODEL_22802f39c34f4ccf843fa5e86eab4e32"
      }
     },
     "894a8d14c7154971a3623f07361207b0": {
      "model_module": "@jupyter-widgets/base",
      "model_module_version": "2.0.0",
      "model_name": "LayoutModel",
      "state": {}
     },
     "9425db6be17d4ea69c33c6d3697eb580": {
      "model_module": "@jupyter-widgets/controls",
      "model_module_version": "2.0.0",
      "model_name": "ButtonModel",
      "state": {
       "icon": "compress",
       "layout": "IPY_MODEL_813ca3417a5641bfb76e2a610ff52245",
       "style": "IPY_MODEL_4e3dd72e9cf241e3b9771f94276aed78",
       "tooltip": null
      }
     },
     "a56a60ceaf4d4a2ab44d35b4b65016e3": {
      "model_module": "@jupyter-widgets/controls",
      "model_module_version": "2.0.0",
      "model_name": "LinkModel",
      "state": {
       "source": [
        "IPY_MODEL_0428954c1aaa42f7b12fd985e9be85e3",
        "max"
       ],
       "target": [
        "IPY_MODEL_8209663179f0404ab659b047175910ac",
        "max_frame"
       ]
      }
     },
     "b72b07a6982e45ec83e321caaa22c15a": {
      "model_module": "@jupyter-widgets/output",
      "model_module_version": "1.0.0",
      "model_name": "OutputModel",
      "state": {
       "layout": "IPY_MODEL_894a8d14c7154971a3623f07361207b0",
       "outputs": [
        {
         "name": "stderr",
         "output_type": "stream",
         "text": "100%|████████████████████████████████████████████████████████████████████████████████████████████████████████████████████████████████| 401/401 [00:00<00:00, 19247.85it/s]\n"
        }
       ]
      }
     },
     "c0f59099b51b413f9f1d62056930e655": {
      "model_module": "@jupyter-widgets/controls",
      "model_module_version": "2.0.0",
      "model_name": "PlayModel",
      "state": {
       "layout": "IPY_MODEL_571a0188d0cb448b8030e2a20af197f0",
       "max": 3999,
       "style": "IPY_MODEL_69706f5f7cf742f3873d897c7d19a339"
      }
     },
     "cab03fcbfd194ed3991b82fa4eb125f2": {
      "model_module": "@jupyter-widgets/base",
      "model_module_version": "2.0.0",
      "model_name": "LayoutModel",
      "state": {}
     },
     "cc1b64344688454a851d993802604376": {
      "model_module": "@jupyter-widgets/controls",
      "model_module_version": "2.0.0",
      "model_name": "LinkModel",
      "state": {
       "source": [
        "IPY_MODEL_0552cb187acc4241b2369899aef88dc6",
        "value"
       ],
       "target": [
        "IPY_MODEL_8209663179f0404ab659b047175910ac",
        "frame"
       ]
      }
     },
     "cf545afd4f2f4ec2990603de43ffba86": {
      "model_module": "nglview-js-widgets",
      "model_module_version": "3.1.0",
      "model_name": "NGLModel",
      "state": {
       "_camera_orientation": [
        21.43212576202678,
        0,
        0,
        0,
        0,
        21.43212576202678,
        0,
        0,
        0,
        0,
        21.43212576202678,
        0,
        -17.488579852585396,
        -6.484495423400847,
        -22.00599956512451,
        1
       ],
       "_camera_str": "orthographic",
       "_gui_theme": null,
       "_ibtn_fullscreen": "IPY_MODEL_9425db6be17d4ea69c33c6d3697eb580",
       "_igui": null,
       "_iplayer": "IPY_MODEL_17d819b798814a10894b1d9e3da7ee03",
       "_ngl_color_dict": {},
       "_ngl_coordinate_resource": {},
       "_ngl_full_stage_parameters": {
        "ambientColor": 14540253,
        "ambientIntensity": 0.2,
        "backgroundColor": "white",
        "cameraEyeSep": 0.3,
        "cameraFov": 40,
        "cameraType": "perspective",
        "clipDist": 10,
        "clipFar": 100,
        "clipMode": "scene",
        "clipNear": 0,
        "clipScale": "relative",
        "fogFar": 100,
        "fogNear": 50,
        "hoverTimeout": 0,
        "impostor": true,
        "lightColor": 14540253,
        "lightIntensity": 1,
        "mousePreset": "default",
        "panSpeed": 1,
        "quality": "medium",
        "rotateSpeed": 2,
        "sampleLevel": 0,
        "tooltip": true,
        "workerDefault": true,
        "zoomSpeed": 1.2
       },
       "_ngl_msg_archive": [
        {
         "args": [
          {
           "binary": false,
           "data": "REMARK   1 CREATED WITH MDTraj 1.9.6, 2025-02-14\nCRYST1   25.580   25.580   25.580  90.00  90.00  90.00 P 1           1 \nMODEL        0\nATOM      1  H1  ACE A   1      19.187   3.332  20.065  1.00  0.00           H  \nATOM      2  CH3 ACE A   1      18.861   3.049  21.066  1.00  0.00           C  \nATOM      3  H2  ACE A   1      19.727   2.911  21.713  1.00  0.00           H  \nATOM      4  H3  ACE A   1      18.286   2.124  21.017  1.00  0.00           H  \nATOM      5  C   ACE A   1      17.984   4.141  21.634  1.00  0.00           C  \nATOM      6  O   ACE A   1      16.825   3.898  21.947  1.00  0.00           O  \nATOM      7  N   ALA A   2      18.539   5.344  21.759  1.00  0.00           N  \nATOM      8  H   ALA A   2      19.489   5.476  21.441  1.00  0.00           H  \nATOM      9  CA  ALA A   2      17.839   6.535  22.239  1.00  0.00           C  \nATOM     10  HA  ALA A   2      16.773   6.424  22.036  1.00  0.00           H  \nATOM     11  CB  ALA A   2      18.034   6.647  23.758  1.00  0.00           C  \nATOM     12  HB1 ALA A   2      17.482   7.505  24.140  1.00  0.00           H  \nATOM     13  HB2 ALA A   2      19.092   6.771  23.989  1.00  0.00           H  \nATOM     14  HB3 ALA A   2      17.664   5.744  24.244  1.00  0.00           H  \nATOM     15  C   ALA A   2      18.331   7.799  21.511  1.00  0.00           C  \nATOM     16  O   ALA A   2      19.460   7.838  21.023  1.00  0.00           O  \nATOM     17  N   NME A   3      17.487   8.837  21.455  1.00  0.00           N  \nATOM     18  H   NME A   3      16.576   8.731  21.878  1.00  0.00           H  \nATOM     19  C   NME A   3      17.798  10.109  20.804  1.00  0.00           C  \nATOM     20  H1  NME A   3      16.929  10.767  20.826  1.00  0.00           H  \nATOM     21  H2  NME A   3      18.630  10.592  21.317  1.00  0.00           H  \nATOM     22  H3  NME A   3      18.086   9.931  19.768  1.00  0.00           H  \nTER      23      NME A   3\nENDMDL\nCONECT    1    2    2\nCONECT    2    5    1    3\nCONECT    2    1    5    3    4\nCONECT    3    2    2\nCONECT    4    2    2\nCONECT    5    2    6    7\nCONECT    5    6    7\nCONECT    6    5    5\nCONECT    7    5    5\nCONECT   15   17   17\nCONECT   17   15   19   18\nCONECT   17   19   18\nCONECT   18   17   17\nCONECT   19   20   21   22\nCONECT   19   17   20   21   22\nCONECT   20   19   19\nCONECT   21   19   19\nCONECT   22   19   19\nEND\n",
           "type": "blob"
          }
         ],
         "kwargs": {
          "defaultRepresentation": false,
          "ext": "pdb",
          "height": "400px",
          "name": "nglview.adaptor.MDTrajTrajectory",
          "width": "400px"
         },
         "methodName": "loadFile",
         "reconstruc_color_scheme": false,
         "target": "Stage",
         "type": "call_method"
        }
       ],
       "_ngl_original_stage_parameters": {
        "ambientColor": 14540253,
        "ambientIntensity": 0.2,
        "backgroundColor": "white",
        "cameraEyeSep": 0.3,
        "cameraFov": 40,
        "cameraType": "perspective",
        "clipDist": 10,
        "clipFar": 100,
        "clipMode": "scene",
        "clipNear": 0,
        "clipScale": "relative",
        "fogFar": 100,
        "fogNear": 50,
        "hoverTimeout": 0,
        "impostor": true,
        "lightColor": 14540253,
        "lightIntensity": 1,
        "mousePreset": "default",
        "panSpeed": 1,
        "quality": "medium",
        "rotateSpeed": 2,
        "sampleLevel": 0,
        "tooltip": true,
        "workerDefault": true,
        "zoomSpeed": 1.2
       },
       "_ngl_repr_dict": {
        "0": {
         "0": {
          "params": {
           "aspectRatio": 1.5,
           "assembly": "default",
           "bondScale": 0.3,
           "bondSpacing": 0.75,
           "clipCenter": {
            "x": 0,
            "y": 0,
            "z": 0
           },
           "clipNear": 0,
           "clipRadius": 0,
           "colorMode": "hcl",
           "colorReverse": false,
           "colorScale": "",
           "colorScheme": "element",
           "colorValue": 9474192,
           "cylinderOnly": false,
           "defaultAssembly": "",
           "depthWrite": true,
           "diffuse": 16777215,
           "diffuseInterior": false,
           "disableImpostor": false,
           "disablePicking": false,
           "flatShaded": false,
           "interiorColor": 2236962,
           "interiorDarkening": 0,
           "lazy": false,
           "lineOnly": false,
           "linewidth": 2,
           "matrix": {
            "elements": [
             1,
             0,
             0,
             0,
             0,
             1,
             0,
             0,
             0,
             0,
             1,
             0,
             0,
             0,
             0,
             1
            ]
           },
           "metalness": 0,
           "multipleBond": "off",
           "opacity": 1,
           "openEnded": true,
           "quality": "high",
           "radialSegments": 20,
           "radiusData": {},
           "radiusScale": 2,
           "radiusSize": 0.15,
           "radiusType": "size",
           "roughness": 0.4,
           "sele": "",
           "side": "double",
           "sphereDetail": 2,
           "useInteriorColor": true,
           "useWorker": true,
           "visible": true,
           "wireframe": false
          },
          "type": "ball+stick"
         }
        }
       },
       "_ngl_serialize": false,
       "_ngl_version": "2.2.2",
       "_ngl_view_id": [
        "CC88B74D-3148-41CA-BE57-83181178A6C6",
        "EAF8A0FF-372C-4D7B-8617-D7463BF5A6B0"
       ],
       "_player_dict": {},
       "_scene_position": {},
       "_scene_rotation": {},
       "_synced_model_ids": [],
       "_synced_repr_model_ids": [],
       "_view_height": "400px",
       "_view_width": "400px",
       "background": "white",
       "frame": 0,
       "gui_style": null,
       "layout": "IPY_MODEL_31786dc5ac2b424d96b7f7df52f201d9",
       "max_frame": 3999,
       "n_components": 1,
       "picked": {}
      }
     },
     "cf7aa3fe243f48f1b48ad76320bb89c6": {
      "model_module": "@jupyter-widgets/controls",
      "model_module_version": "2.0.0",
      "model_name": "LinkModel",
      "state": {
       "source": [
        "IPY_MODEL_c0f59099b51b413f9f1d62056930e655",
        "value"
       ],
       "target": [
        "IPY_MODEL_cf545afd4f2f4ec2990603de43ffba86",
        "frame"
       ]
      }
     },
     "d3a4cdb38f984ceb9df91ec42ad8e777": {
      "model_module": "@jupyter-widgets/base",
      "model_module_version": "2.0.0",
      "model_name": "LayoutModel",
      "state": {}
     },
     "e104357921a34990b2787e22d48febef": {
      "model_module": "@jupyter-widgets/base",
      "model_module_version": "2.0.0",
      "model_name": "LayoutModel",
      "state": {}
     },
     "e24afbe4a00846a2a53f5444b0a4ae71": {
      "model_module": "@jupyter-widgets/base",
      "model_module_version": "2.0.0",
      "model_name": "LayoutModel",
      "state": {}
     },
     "f49b50f8a8964d8eac08cf2708b66c8e": {
      "model_module": "@jupyter-widgets/controls",
      "model_module_version": "2.0.0",
      "model_name": "ImageModel",
      "state": {
       "layout": "IPY_MODEL_7802f54e7d414c97a5976c3918761828",
       "width": "900.0"
      }
     },
     "f6a81fff5ad34236b64940c8247f6ec9": {
      "model_module": "@jupyter-widgets/base",
      "model_module_version": "2.0.0",
      "model_name": "LayoutModel",
      "state": {}
     }
    },
    "version_major": 2,
    "version_minor": 0
   }
  }
 },
 "nbformat": 4,
 "nbformat_minor": 4
}
