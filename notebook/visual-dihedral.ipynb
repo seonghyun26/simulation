{
 "cells": [
  {
   "cell_type": "markdown",
   "metadata": {},
   "source": [
    "# Imports"
   ]
  },
  {
   "cell_type": "code",
   "execution_count": 3,
   "metadata": {},
   "outputs": [],
   "source": [
    "import os\n",
    "import torch\n",
    "\n",
    "import numpy as np\n",
    "import mdtraj as md\n",
    "import matplotlib.pyplot as plt\n",
    "\n",
    "from tqdm import tqdm\n",
    "\n",
    "phi_idx1, phi_idx2, phi_idx3, phi_idx4 = 4, 6, 8, 14\n",
    "psi_idx1, psi_idx2, psi_idx3, psi_idx4 = 6, 8, 14, 16"
   ]
  },
  {
   "cell_type": "code",
   "execution_count": 4,
   "metadata": {},
   "outputs": [],
   "source": [
    "def compute_two_dihedral(pdb_file):\n",
    "\ttraj = md.load(pdb_file)\n",
    "\tindices_psi = [psi_idx1, psi_idx2, psi_idx3, psi_idx4]\n",
    "\tindices_phi = [phi_idx1, phi_idx2, phi_idx3, phi_idx4]\n",
    "\tpsi= md.compute_dihedrals(traj, [indices_psi])[0][0] * 180 / np.pi\n",
    "\tphi = md.compute_dihedrals(traj, [indices_phi])[0][0] * 180 / np.pi\n",
    "\n",
    "\treturn psi, phi"
   ]
  },
  {
   "cell_type": "markdown",
   "metadata": {},
   "source": [
    "# Dihedral angles check"
   ]
  },
  {
   "cell_type": "code",
   "execution_count": 5,
   "metadata": {},
   "outputs": [
    {
     "name": "stdout",
     "output_type": "stream",
     "text": [
      "16021\n"
     ]
    }
   ],
   "source": [
    "file_list = os.listdir('../projection/alanine')\n",
    "print(len(file_list))"
   ]
  },
  {
   "cell_type": "code",
   "execution_count": 6,
   "metadata": {},
   "outputs": [
    {
     "name": "stderr",
     "output_type": "stream",
     "text": [
      "100%|██████████| 16021/16021 [00:11<00:00, 1338.37it/s]\n"
     ]
    }
   ],
   "source": [
    "psi_list = []\n",
    "phi_list = []\n",
    "\n",
    "for file in tqdm(file_list):\n",
    "\tfile_name = f\"../projection/alanine/{file}\"\n",
    "\tpsi, phi = compute_two_dihedral(file_name)\n",
    "\tpsi_list.append(psi)\n",
    "\tphi_list.append(phi)"
   ]
  },
  {
   "cell_type": "code",
   "execution_count": 7,
   "metadata": {},
   "outputs": [
    {
     "data": {
      "image/png": "[encoded data removed]",
      "text/plain": [
       "<Figure size 800x800 with 1 Axes>"
      ]
     },
     "metadata": {},
     "output_type": "display_data"
    }
   ],
   "source": [
    "plt.figure(figsize=(8, 8))\n",
    "plt.scatter(psi_list, phi_list, alpha=1, s=1, color=\"green\")\n",
    "plt.title('Scatter plot of Psi vs Phi')\n",
    "plt.xlabel('Phi')\n",
    "plt.ylabel('Psi')\n",
    "plt.show()"
   ]
  },
  {
   "cell_type": "code",
   "execution_count": 8,
   "metadata": {},
   "outputs": [
    {
     "name": "stdout",
     "output_type": "stream",
     "text": [
      "(16021,)\n",
      "(16021,)\n"
     ]
    }
   ],
   "source": [
    "print(np.array(psi_list).shape)\n",
    "np.save('../projection/alanine_psi_list.npy', np.array(psi_list) / 180 * np.pi)\n",
    "print(np.array(phi_list).shape)\n",
    "np.save('../projection/alanine_phi_list.npy', np.array(phi_list) / 180 * np.pi)"
   ]
  },
  {
   "cell_type": "markdown",
   "metadata": {},
   "source": [
    "# PT file creation"
   ]
  },
  {
   "cell_type": "code",
   "execution_count": 9,
   "metadata": {},
   "outputs": [],
   "source": [
    "ALANINE_HEAVY_ATOM_IDX = [\n",
    "    1, 4, 5, 6, 8, 10, 14, 15, 16, 18\n",
    "]\n",
    "\n",
    "def coordinate2distance(position):\n",
    "    position = position.reshape(-1, 3)\n",
    "    heavy_atom_position = position[ALANINE_HEAVY_ATOM_IDX]\n",
    "    num_heavy_atoms = len(heavy_atom_position)\n",
    "    distance = []\n",
    "    for i in range(num_heavy_atoms):\n",
    "        for j in range(i+1, num_heavy_atoms):\n",
    "            distance.append(torch.norm(heavy_atom_position[i] - heavy_atom_position[j]))\n",
    "    distance = torch.stack(distance)\n",
    "    \n",
    "    return distance"
   ]
  },
  {
   "cell_type": "code",
   "execution_count": 10,
   "metadata": {},
   "outputs": [
    {
     "name": "stderr",
     "output_type": "stream",
     "text": [
      "100%|██████████| 16021/16021 [00:20<00:00, 785.92it/s]\n"
     ]
    }
   ],
   "source": [
    "distance_list = []\n",
    "coordinate_list = []\n",
    "\n",
    "for file in tqdm(file_list):\n",
    "\tfile_name = f\"../projection/alanine/{file}\"\n",
    "\txyz = md.load(file_name).xyz[0]\n",
    "\txyz_torch = torch.tensor(xyz, dtype=torch.float32)\n",
    "\tcoordinate_list.append(xyz_torch)\n",
    "\tdistance = coordinate2distance(xyz_torch)\n",
    "\tdistance_list.append(distance)"
   ]
  },
  {
   "cell_type": "code",
   "execution_count": 11,
   "metadata": {},
   "outputs": [
    {
     "name": "stdout",
     "output_type": "stream",
     "text": [
      "Distance dataset: torch.Size([16021, 45])\n"
     ]
    }
   ],
   "source": [
    "distance_dataset = torch.stack(distance_list)\n",
    "print(f\"Distance dataset: {distance_dataset.shape}\")"
   ]
  },
  {
   "cell_type": "code",
   "execution_count": 12,
   "metadata": {},
   "outputs": [],
   "source": [
    "torch.save(distance_dataset, '../projection/alanine_heavy_atom_distance.pt')"
   ]
  },
  {
   "cell_type": "code",
   "execution_count": 13,
   "metadata": {},
   "outputs": [
    {
     "name": "stdout",
     "output_type": "stream",
     "text": [
      "Coordinate dataset: torch.Size([16021, 22, 3])\n"
     ]
    }
   ],
   "source": [
    "coordinate_dataset = torch.stack(coordinate_list)\n",
    "print(f\"Coordinate dataset: {coordinate_dataset.shape}\")"
   ]
  },
  {
   "cell_type": "code",
   "execution_count": 14,
   "metadata": {},
   "outputs": [],
   "source": [
    "torch.save(coordinate_dataset, '../projection/alanine_coordinate.pt')"
   ]
  },
  {
   "cell_type": "code",
   "execution_count": null,
   "metadata": {},
   "outputs": [],
   "source": []
  }
 ],
 "metadata": {
  "kernelspec": {
   "display_name": "cmd",
   "language": "python",
   "name": "python3"
  },
  "language_info": {
   "codemirror_mode": {
    "name": "ipython",
    "version": 3
   },
   "file_extension": ".py",
   "mimetype": "text/x-python",
   "name": "python",
   "nbconvert_exporter": "python",
   "pygments_lexer": "ipython3",
   "version": "-1.-1.-1"
  }
 },
 "nbformat": 4,
 "nbformat_minor": 2
}
