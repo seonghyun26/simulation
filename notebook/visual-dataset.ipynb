{
 "cells": [
  {
   "cell_type": "markdown",
   "metadata": {},
   "source": [
    "# Config"
   ]
  },
  {
   "cell_type": "code",
   "execution_count": 1,
   "metadata": {},
   "outputs": [],
   "source": [
    "import os\n",
    "import json\n",
    "import time\n",
    "import torch\n",
    "import pprint\n",
    "import random\n",
    "import pandas\n",
    "import argparse\n",
    "import lightning\n",
    "\n",
    "\n",
    "import numpy as np\n",
    "import mdtraj as md\n",
    "import pandas as pd\n",
    "import matplotlib.pyplot as plt\n",
    "\n",
    "from tqdm.auto import tqdm\n",
    "from torch.utils.data import Dataset"
   ]
  },
  {
   "cell_type": "code",
   "execution_count": 2,
   "metadata": {},
   "outputs": [],
   "source": [
    "class CL_dataset(Dataset):\n",
    "\tdef __init__(\n",
    "\t\tself,\n",
    "\t\tdata_list,\n",
    "\t\tdata_augmented_list,\n",
    "\t\tdata_augmented_hard_list,\n",
    "\t\ttemperature_list,\n",
    "\t\tenergy_list\n",
    "\t):\n",
    "\t\tsuper(CL_dataset, self).__init__()\n",
    "\t\tself.device = \"cpu\"\n",
    "\t\t\n",
    "\t\tself.x = data_list.to(self.device)\n",
    "\t\tself.x_augmented = data_augmented_list.to(self.device)\n",
    "\t\tself.x_augmented_hard = data_augmented_hard_list.to(self.device)\n",
    "\t\tself.temperature = temperature_list.to(self.device)\n",
    "\t\tself.energy = energy_list.to(self.device)\n",
    "\t\t\n",
    "\tdef __getitem__(self, index):\n",
    "\t\treturn self.x[index], self.x_augmented[index], self.x_augmented_hard[index], self.temperature[index], self.energy[index]\n",
    "\n",
    "\tdef __len__(self):\n",
    "\t\treturn self.x.shape[0]"
   ]
  },
  {
   "cell_type": "code",
   "execution_count": 3,
   "metadata": {},
   "outputs": [],
   "source": [
    "def compute_dihedral(positions):\n",
    "\t\"\"\"http://stackoverflow.com/q/20305272/1128289\"\"\"\n",
    "\tdef dihedral(p):\n",
    "\t\tif not isinstance(p, np.ndarray):\n",
    "\t\t\tp = p.numpy()\n",
    "\t\tb = p[:-1] - p[1:]\n",
    "\t\tb[0] *= -1\n",
    "\t\tv = np.array([v - (v.dot(b[1]) / b[1].dot(b[1])) * b[1] for v in [b[0], b[2]]])\n",
    "\t\t\n",
    "\t\t# Normalize vectors\n",
    "\t\tv /= np.sqrt(np.einsum('...i,...i', v, v)).reshape(-1, 1)\n",
    "\t\tb1 = b[1] / np.linalg.norm(b[1])\n",
    "\t\tx = np.dot(v[0], v[1])\n",
    "\t\tm = np.cross(v[0], b1)\n",
    "\t\ty = np.dot(m, v[1])\n",
    "\t\t\n",
    "\t\treturn np.arctan2(y, x)\n",
    "\n",
    "\tangles = np.array(list(map(dihedral, positions)))\n",
    "\treturn angles"
   ]
  },
  {
   "cell_type": "code",
   "execution_count": 50,
   "metadata": {},
   "outputs": [],
   "source": [
    "molecule = \"alanine\"\n",
    "temperature = \"300.0\"\n",
    "version = \"10n-v3\"\n",
    "\n",
    "PHI_ANGLE = [4, 6, 8, 14]\n",
    "PSI_ANGLE = [6, 8, 14, 16]"
   ]
  },
  {
   "cell_type": "markdown",
   "metadata": {},
   "source": [
    "# XYZ Dataset"
   ]
  },
  {
   "cell_type": "code",
   "execution_count": 20,
   "metadata": {},
   "outputs": [],
   "source": [
    "dataset = torch.load(f\"../dataset/{molecule}/{temperature}/{version}/cl-xyz.pt\")"
   ]
  },
  {
   "cell_type": "markdown",
   "metadata": {},
   "source": [
    "## Load and preprocess"
   ]
  },
  {
   "cell_type": "code",
   "execution_count": 21,
   "metadata": {},
   "outputs": [
    {
     "data": {
      "application/vnd.jupyter.widget-view+json": {
       "model_id": "6af9ba16d0f44832a26d3a9ea2a4c05a",
       "version_major": 2,
       "version_minor": 0
      },
      "text/plain": [
       "  0%|          | 0/40000 [00:00<?, ?it/s]"
      ]
     },
     "metadata": {},
     "output_type": "display_data"
    }
   ],
   "source": [
    "state_list = []\n",
    "positive_list = []\n",
    "negative_list = []\n",
    "\n",
    "for data in tqdm(dataset):\n",
    "\tcurrent_state, positive, negative, _, _ = data\n",
    "\tstate_list.append(current_state)\n",
    "\tpositive_list.append(positive)\n",
    "\tnegative_list.append(negative)"
   ]
  },
  {
   "cell_type": "code",
   "execution_count": 22,
   "metadata": {},
   "outputs": [],
   "source": [
    "state_list = np.stack(state_list)\n",
    "positive_list = np.stack(positive_list)\n",
    "negative_list = np.stack(negative_list)"
   ]
  },
  {
   "cell_type": "markdown",
   "metadata": {},
   "source": [
    "## Visualization"
   ]
  },
  {
   "cell_type": "code",
   "execution_count": 25,
   "metadata": {},
   "outputs": [
    {
     "ename": "NameError",
     "evalue": "name 'state_psi_list' is not defined",
     "output_type": "error",
     "traceback": [
      "\u001b[0;31m---------------------------------------------------------------------------\u001b[0m",
      "\u001b[0;31mNameError\u001b[0m                                 Traceback (most recent call last)",
      "Cell \u001b[0;32mIn[25], line 7\u001b[0m\n\u001b[1;32m      2\u001b[0m fig \u001b[38;5;241m=\u001b[39m plt\u001b[38;5;241m.\u001b[39mfigure(figsize\u001b[38;5;241m=\u001b[39m(\u001b[38;5;241m7\u001b[39m, \u001b[38;5;241m7\u001b[39m))\n\u001b[1;32m      3\u001b[0m ax \u001b[38;5;241m=\u001b[39m fig\u001b[38;5;241m.\u001b[39madd_subplot(\u001b[38;5;241m111\u001b[39m)\n\u001b[1;32m      5\u001b[0m ax\u001b[38;5;241m.\u001b[39mplot(\n\u001b[1;32m      6\u001b[0m \tstate_phi_list,\n\u001b[0;32m----> 7\u001b[0m \t\u001b[43mstate_psi_list\u001b[49m,\n\u001b[1;32m      8\u001b[0m \tmarker\u001b[38;5;241m=\u001b[39m\u001b[38;5;124m\"\u001b[39m\u001b[38;5;124mo\u001b[39m\u001b[38;5;124m\"\u001b[39m,\n\u001b[1;32m      9\u001b[0m \tlinestyle\u001b[38;5;241m=\u001b[39m\u001b[38;5;124m\"\u001b[39m\u001b[38;5;124mNone\u001b[39m\u001b[38;5;124m\"\u001b[39m,\n\u001b[1;32m     10\u001b[0m \tmarkersize\u001b[38;5;241m=\u001b[39m\u001b[38;5;241m1\u001b[39m,\n\u001b[1;32m     11\u001b[0m \talpha\u001b[38;5;241m=\u001b[39m\u001b[38;5;241m1.0\u001b[39m,\n\u001b[1;32m     12\u001b[0m \tzorder\u001b[38;5;241m=\u001b[39m\u001b[38;5;241m100\u001b[39m,\n\u001b[1;32m     13\u001b[0m  \tcolor\u001b[38;5;241m=\u001b[39m\u001b[38;5;124m\"\u001b[39m\u001b[38;5;124mgreen\u001b[39m\u001b[38;5;124m\"\u001b[39m,\n\u001b[1;32m     14\u001b[0m )\n\u001b[1;32m     15\u001b[0m ax\u001b[38;5;241m.\u001b[39mplot(\n\u001b[1;32m     16\u001b[0m \tpositive_phi_list,\n\u001b[1;32m     17\u001b[0m \tpositive_psi_list,\n\u001b[0;32m   (...)\u001b[0m\n\u001b[1;32m     23\u001b[0m  \tcolor\u001b[38;5;241m=\u001b[39m\u001b[38;5;124m\"\u001b[39m\u001b[38;5;124mblue\u001b[39m\u001b[38;5;124m\"\u001b[39m,\n\u001b[1;32m     24\u001b[0m )\n\u001b[1;32m     25\u001b[0m ax\u001b[38;5;241m.\u001b[39mplot(\n\u001b[1;32m     26\u001b[0m \tnegative_phi_list,\n\u001b[1;32m     27\u001b[0m \tnegative_psi_list,\n\u001b[0;32m   (...)\u001b[0m\n\u001b[1;32m     33\u001b[0m  \tcolor\u001b[38;5;241m=\u001b[39m\u001b[38;5;124m\"\u001b[39m\u001b[38;5;124mred\u001b[39m\u001b[38;5;124m\"\u001b[39m,\n\u001b[1;32m     34\u001b[0m )\n",
      "\u001b[0;31mNameError\u001b[0m: name 'state_psi_list' is not defined"
     ]
    },
    {
     "data": {
      "text/plain": [
       "<Figure size 640x480 with 0 Axes>"
      ]
     },
     "metadata": {},
     "output_type": "display_data"
    },
    {
     "data": {
      "image/png": "[encoded data removed]",
      "text/plain": [
       "<Figure size 700x700 with 1 Axes>"
      ]
     },
     "metadata": {},
     "output_type": "display_data"
    }
   ],
   "source": [
    "plt.clf()\n",
    "fig = plt.figure(figsize=(7, 7))\n",
    "ax = fig.add_subplot(111)\n",
    "\n",
    "ax.plot(\n",
    "\tstate_phi_list,\n",
    "\tstate_psi_list,\n",
    "\tmarker=\"o\",\n",
    "\tlinestyle=\"None\",\n",
    "\tmarkersize=1,\n",
    "\talpha=1.0,\n",
    "\tzorder=100,\n",
    " \tcolor=\"green\",\n",
    ")\n",
    "ax.plot(\n",
    "\tpositive_phi_list,\n",
    "\tpositive_psi_list,\n",
    "\tmarker=\"o\",\n",
    "\tlinestyle=\"None\",\n",
    "\tmarkersize=1,\n",
    "\talpha=1.0,\n",
    "\tzorder=100,\n",
    " \tcolor=\"blue\",\n",
    ")\n",
    "ax.plot(\n",
    "\tnegative_phi_list,\n",
    "\tnegative_psi_list,\n",
    "\tmarker=\"o\",\n",
    "\tlinestyle=\"None\",\n",
    "\tmarkersize=1,\n",
    "\talpha=1.0,\n",
    "\tzorder=100,\n",
    " \tcolor=\"red\",\n",
    ")\n",
    "\n",
    "# Plot the Ramachandran plot\n",
    "plt.xlim([-np.pi - 0.1, np.pi + 0.1])\n",
    "plt.ylim([-np.pi - 0.1, np.pi + 0.1])\n",
    "plt.xlabel(\"phi\")\n",
    "plt.ylabel(\"psi\")\n",
    "plt.show()"
   ]
  },
  {
   "cell_type": "markdown",
   "metadata": {},
   "source": [
    "# Distance dataset"
   ]
  },
  {
   "cell_type": "code",
   "execution_count": 51,
   "metadata": {},
   "outputs": [],
   "source": [
    "dataset = torch.load(f\"../dataset/{molecule}/{temperature}/{version}/cl-distance.pt\")"
   ]
  },
  {
   "cell_type": "markdown",
   "metadata": {},
   "source": [
    "### Load dataset"
   ]
  },
  {
   "cell_type": "code",
   "execution_count": 52,
   "metadata": {},
   "outputs": [
    {
     "data": {
      "application/vnd.jupyter.widget-view+json": {
       "model_id": "52f0b96b1bfe46b4be2a87b6cfb6ec9d",
       "version_major": 2,
       "version_minor": 0
      },
      "text/plain": [
       "  0%|          | 0/4000000 [00:00<?, ?it/s]"
      ]
     },
     "metadata": {},
     "output_type": "display_data"
    }
   ],
   "source": [
    "state_list = []\n",
    "positive_list = []\n",
    "negative_list = []\n",
    "\n",
    "for data in tqdm(dataset):\n",
    "\tcurrent_state, positive, negative, _, _ = data\n",
    "\tstate_list.append(current_state)\n",
    "\tpositive_list.append(positive)\n",
    "\tnegative_list.append(negative)"
   ]
  },
  {
   "cell_type": "code",
   "execution_count": 53,
   "metadata": {},
   "outputs": [
    {
     "name": "stdout",
     "output_type": "stream",
     "text": [
      "(4000000, 45) (4000000, 45) (4000000, 45)\n"
     ]
    }
   ],
   "source": [
    "state_list = np.stack(state_list)\n",
    "positive_list = np.stack(positive_list)\n",
    "negative_list = np.stack(negative_list)\n",
    "\n",
    "print(state_list.shape, positive_list.shape, negative_list.shape)"
   ]
  },
  {
   "cell_type": "markdown",
   "metadata": {},
   "source": [
    "### Visualization"
   ]
  },
  {
   "cell_type": "code",
   "execution_count": 54,
   "metadata": {},
   "outputs": [
    {
     "data": {
      "text/plain": [
       "<Figure size 640x480 with 0 Axes>"
      ]
     },
     "metadata": {},
     "output_type": "display_data"
    },
    {
     "data": {
      "image/png": "[encoded data removed]",
      "text/plain": [
       "<Figure size 700x700 with 1 Axes>"
      ]
     },
     "metadata": {},
     "output_type": "display_data"
    }
   ],
   "source": [
    "positive_distance_list = np.linalg.norm(positive_list - state_list, axis=1)\n",
    "negative_distance_list = np.linalg.norm(negative_list - state_list, axis=1)\n",
    "\n",
    "plt.clf()\n",
    "fig = plt.figure(figsize=(7, 7))\n",
    "ax = fig.add_subplot(111)\n",
    "ax.hist(positive_distance_list, bins=100, alpha=0.5, color=\"blue\", label=\"Positive\")\n",
    "ax.hist(negative_distance_list, bins=100, alpha=0.5, color=\"red\", label=\"Negative\")\n",
    "plt.show()"
   ]
  },
  {
   "cell_type": "code",
   "execution_count": null,
   "metadata": {},
   "outputs": [],
   "source": []
  }
 ],
 "metadata": {
  "kernelspec": {
   "display_name": "cmd",
   "language": "python",
   "name": "python3"
  },
  "language_info": {
   "codemirror_mode": {
    "name": "ipython",
    "version": 3
   },
   "file_extension": ".py",
   "mimetype": "text/x-python",
   "name": "python",
   "nbconvert_exporter": "python",
   "pygments_lexer": "ipython3",
   "version": "3.9.19"
  }
 },
 "nbformat": 4,
 "nbformat_minor": 2
}
