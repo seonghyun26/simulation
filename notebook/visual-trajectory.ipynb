{
 "cells": [
  {
   "cell_type": "markdown",
   "metadata": {},
   "source": [
    "# Config"
   ]
  },
  {
   "cell_type": "code",
   "execution_count": 1,
   "metadata": {},
   "outputs": [],
   "source": [
    "import os\n",
    "import json\n",
    "import time\n",
    "import torch\n",
    "import pprint\n",
    "import random\n",
    "import pandas\n",
    "import argparse\n",
    "import lightning\n",
    "\n",
    "\n",
    "import numpy as np\n",
    "import mdtraj as md\n",
    "import pandas as pd\n",
    "import matplotlib.pyplot as plt\n",
    "\n",
    "from tqdm.auto import tqdm\n",
    "from torch.utils.data import Dataset"
   ]
  },
  {
   "cell_type": "code",
   "execution_count": 2,
   "metadata": {},
   "outputs": [],
   "source": [
    "def compute_dihedral(positions):\n",
    "\t\"\"\"http://stackoverflow.com/q/20305272/1128289\"\"\"\n",
    "\tdef dihedral(p):\n",
    "\t\tif not isinstance(p, np.ndarray):\n",
    "\t\t\tp = p.numpy()\n",
    "\t\tb = p[:-1] - p[1:]\n",
    "\t\tb[0] *= -1\n",
    "\t\tv = np.array([v - (v.dot(b[1]) / b[1].dot(b[1])) * b[1] for v in [b[0], b[2]]])\n",
    "\t\t\n",
    "\t\t# Normalize vectors\n",
    "\t\tv /= np.sqrt(np.einsum('...i,...i', v, v)).reshape(-1, 1)\n",
    "\t\tb1 = b[1] / np.linalg.norm(b[1])\n",
    "\t\tx = np.dot(v[0], v[1])\n",
    "\t\tm = np.cross(v[0], b1)\n",
    "\t\ty = np.dot(m, v[1])\n",
    "\t\t\n",
    "\t\treturn np.arctan2(y, x)\n",
    "\n",
    "\t# angles = np.array(list(map(dihedral, positions)))\n",
    "\tangles = []\n",
    "\tfor position in tqdm(positions):\n",
    "\t\tangles.append(dihedral(position))\n",
    "\tangles = np.array(angles)\n",
    " \t\n",
    "\treturn angles"
   ]
  },
  {
   "cell_type": "code",
   "execution_count": 3,
   "metadata": {},
   "outputs": [],
   "source": [
    "molecule = \"alanine\"\n",
    "temperature = \"300.0\"\n",
    "version = \"10n-v3\"\n",
    "\n",
    "PHI_ANGLE = [4, 6, 8, 14]\n",
    "PSI_ANGLE = [6, 8, 14, 16]"
   ]
  },
  {
   "cell_type": "markdown",
   "metadata": {},
   "source": [
    "# Trajectory"
   ]
  },
  {
   "cell_type": "code",
   "execution_count": 4,
   "metadata": {},
   "outputs": [
    {
     "data": {
      "text/plain": [
       "{'molecule': 'alanine',\n",
       " 'temperature': 300.0,\n",
       " 'traj_dir': ['24-12-26/15:24', '24-12-26/17:52'],\n",
       " 'dataset_size': 1000000,\n",
       " 'dataset_version': '10n-v3',\n",
       " 'positive_sample_augmentation': 10,\n",
       " 'negative_sample_augmentation': 1000}"
      ]
     },
     "execution_count": 4,
     "metadata": {},
     "output_type": "execute_result"
    }
   ],
   "source": [
    "top_dir = f\"../{molecule}/c5.pdb\"\n",
    "data_dir = f\"../dataset/{molecule}/{temperature}/{version}\"\n",
    "config_traj = json.load(open(f\"{data_dir}/config.json\", \"r\"))[2]\n",
    "config_traj"
   ]
  },
  {
   "cell_type": "code",
   "execution_count": 5,
   "metadata": {},
   "outputs": [
    {
     "data": {
      "application/vnd.jupyter.widget-view+json": {
       "model_id": "5bfca1462381470fad22cb1731b92f2d",
       "version_major": 2,
       "version_minor": 0
      },
      "text/plain": [
       "  0%|          | 0/10000000 [00:00<?, ?it/s]"
      ]
     },
     "metadata": {},
     "output_type": "display_data"
    },
    {
     "data": {
      "application/vnd.jupyter.widget-view+json": {
       "model_id": "c74b4368853843e686547d87391648bf",
       "version_major": 2,
       "version_minor": 0
      },
      "text/plain": [
       "  0%|          | 0/10000000 [00:00<?, ?it/s]"
      ]
     },
     "metadata": {},
     "output_type": "display_data"
    },
    {
     "data": {
      "application/vnd.jupyter.widget-view+json": {
       "model_id": "db74d835a7de43b1b1262d706f4a0912",
       "version_major": 2,
       "version_minor": 0
      },
      "text/plain": [
       "  0%|          | 0/10000000 [00:00<?, ?it/s]"
      ]
     },
     "metadata": {},
     "output_type": "display_data"
    },
    {
     "data": {
      "application/vnd.jupyter.widget-view+json": {
       "model_id": "1c4f9e5dbfa7447b8b6abe2ae0282810",
       "version_major": 2,
       "version_minor": 0
      },
      "text/plain": [
       "  0%|          | 0/10000000 [00:00<?, ?it/s]"
      ]
     },
     "metadata": {},
     "output_type": "display_data"
    }
   ],
   "source": [
    "traj_list = []\n",
    "traj_phi_list = []\n",
    "traj_psi_list = []\n",
    "\n",
    "for dir in config_traj[\"traj_dir\"]:\n",
    "    traj_dir = f\"../../simulation/log/{molecule}/{temperature}/{dir}\"\n",
    "    traj = md.load(f\"{traj_dir}/traj.dcd\", top=top_dir)\n",
    "    traj_list.append(traj)\n",
    "    traj_phi = compute_dihedral(traj.xyz[:, PHI_ANGLE, :])\n",
    "    traj_psi = compute_dihedral(traj.xyz[:, PSI_ANGLE, :])\n",
    "    traj_phi_list.append(traj_phi)\n",
    "    traj_psi_list.append(traj_psi)\n"
   ]
  },
  {
   "cell_type": "code",
   "execution_count": 8,
   "metadata": {},
   "outputs": [
    {
     "name": "stdout",
     "output_type": "stream",
     "text": [
      "(20000000, 1) (20000000, 1)\n"
     ]
    }
   ],
   "source": [
    "traj_phi_list = np.array(traj_phi_list).reshape(-1, 1)\n",
    "traj_psi_list = np.array(traj_psi_list).reshape(-1, 1)\n",
    "print(traj_phi_list.shape, traj_psi_list.shape)"
   ]
  },
  {
   "cell_type": "code",
   "execution_count": 11,
   "metadata": {},
   "outputs": [],
   "source": [
    "np.save(f\"{data_dir}/traj_phi.npy\", traj_phi_list)\n",
    "np.save(f\"{data_dir}/traj_psi.npy\", traj_psi_list)\n"
   ]
  },
  {
   "cell_type": "markdown",
   "metadata": {},
   "source": [
    "## Visualization"
   ]
  },
  {
   "cell_type": "code",
   "execution_count": 9,
   "metadata": {},
   "outputs": [
    {
     "data": {
      "text/plain": [
       "<Figure size 640x480 with 0 Axes>"
      ]
     },
     "metadata": {},
     "output_type": "display_data"
    },
    {
     "data": {
      "image/png": "[encoded data removed]",
      "text/plain": [
       "<Figure size 700x700 with 1 Axes>"
      ]
     },
     "metadata": {},
     "output_type": "display_data"
    }
   ],
   "source": [
    "plt.clf()\n",
    "fig = plt.figure(figsize=(7, 7))\n",
    "ax = fig.add_subplot(111)\n",
    "\n",
    "ax.plot(\n",
    "\ttraj_phi_list,\n",
    "\ttraj_psi_list,\n",
    "\tmarker=\"o\",\n",
    "\tlinestyle=\"None\",\n",
    "\tmarkersize=1,\n",
    "\talpha=1.0,\n",
    "\tzorder=100,\n",
    " \tcolor=\"green\",\n",
    ")\n",
    "\n",
    "# Plot the Ramachandran plot\n",
    "plt.xlim([-np.pi - 0.1, np.pi + 0.1])\n",
    "plt.ylim([-np.pi - 0.1, np.pi + 0.1])\n",
    "plt.xlabel(\"phi\")\n",
    "plt.ylabel(\"psi\")\n",
    "plt.show()"
   ]
  },
  {
   "cell_type": "code",
   "execution_count": null,
   "metadata": {},
   "outputs": [],
   "source": []
  }
 ],
 "metadata": {
  "kernelspec": {
   "display_name": "cmd",
   "language": "python",
   "name": "python3"
  },
  "language_info": {
   "codemirror_mode": {
    "name": "ipython",
    "version": 3
   },
   "file_extension": ".py",
   "mimetype": "text/x-python",
   "name": "python",
   "nbconvert_exporter": "python",
   "pygments_lexer": "ipython3",
   "version": "3.9.19"
  }
 },
 "nbformat": 4,
 "nbformat_minor": 2
}
